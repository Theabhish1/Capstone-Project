{
  "nbformat": 4,
  "nbformat_minor": 0,
  "metadata": {
    "colab": {
      "provenance": []
    },
    "kernelspec": {
      "name": "python3",
      "display_name": "Python 3"
    },
    "language_info": {
      "name": "python"
    }
  },
  "cells": [
    {
      "cell_type": "code",
      "execution_count": 260,
      "metadata": {
        "colab": {
          "base_uri": "https://localhost:8080/",
          "height": 35
        },
        "id": "sr65ZJGZrEvP",
        "outputId": "d7c1bdc6-f4f7-4dd5-c7a6-fb590aa000f1"
      },
      "outputs": [
        {
          "output_type": "execute_result",
          "data": {
            "text/plain": [
              "'/content'"
            ],
            "application/vnd.google.colaboratory.intrinsic+json": {
              "type": "string"
            }
          },
          "metadata": {},
          "execution_count": 260
        }
      ],
      "source": [
        "# Importing libraries\n",
        "import pandas as pd\n",
        "import numpy as np\n",
        "import matplotlib.pyplot as plt\n",
        "import seaborn as sns\n",
        "from sklearn.cluster import KMeans\n",
        "from sklearn.preprocessing import StandardScaler\n",
        "import os\n",
        "os.getcwd()"
      ]
    },
    {
      "cell_type": "code",
      "source": [
        "df=pd.read_csv(\"analyzed.csv\")  #This Project is made on Google Colab\n",
        "df.drop('Unnamed: 0', axis=1, inplace=True)"
      ],
      "metadata": {
        "id": "wAhOcXsAtHXs"
      },
      "execution_count": 261,
      "outputs": []
    },
    {
      "cell_type": "code",
      "source": [
        "df.head()"
      ],
      "metadata": {
        "colab": {
          "base_uri": "https://localhost:8080/",
          "height": 206
        },
        "id": "HyzVWeuBuhN4",
        "outputId": "ffebe572-7567-40fa-9df3-ef1782e3fdec"
      },
      "execution_count": 262,
      "outputs": [
        {
          "output_type": "execute_result",
          "data": {
            "text/plain": [
              "   Merchant Id  Annual_Revenue  Spending_Score           City  \\\n",
              "0            1              15              39         Mtwara   \n",
              "1            2              15              81  Zanzibar City   \n",
              "2            3              16               6         Mtwara   \n",
              "3            4              16              77  Zanzibar City   \n",
              "4            5              17              40         Mtwara   \n",
              "\n",
              "  Most_Purchased_Product  Cluster_Number Cluster_Nature  \n",
              "0           Mtindi 500ml               2        Careful  \n",
              "1       Fresh Milk 250ml               3    Spendthrift  \n",
              "2           Mtindi 500ml               2        Careful  \n",
              "3       Fresh Milk 250ml               3    Spendthrift  \n",
              "4           Mtindi 500ml               2        Careful  "
            ],
            "text/html": [
              "\n",
              "  <div id=\"df-7d262e58-9a74-416e-a312-028a49756f02\" class=\"colab-df-container\">\n",
              "    <div>\n",
              "<style scoped>\n",
              "    .dataframe tbody tr th:only-of-type {\n",
              "        vertical-align: middle;\n",
              "    }\n",
              "\n",
              "    .dataframe tbody tr th {\n",
              "        vertical-align: top;\n",
              "    }\n",
              "\n",
              "    .dataframe thead th {\n",
              "        text-align: right;\n",
              "    }\n",
              "</style>\n",
              "<table border=\"1\" class=\"dataframe\">\n",
              "  <thead>\n",
              "    <tr style=\"text-align: right;\">\n",
              "      <th></th>\n",
              "      <th>Merchant Id</th>\n",
              "      <th>Annual_Revenue</th>\n",
              "      <th>Spending_Score</th>\n",
              "      <th>City</th>\n",
              "      <th>Most_Purchased_Product</th>\n",
              "      <th>Cluster_Number</th>\n",
              "      <th>Cluster_Nature</th>\n",
              "    </tr>\n",
              "  </thead>\n",
              "  <tbody>\n",
              "    <tr>\n",
              "      <th>0</th>\n",
              "      <td>1</td>\n",
              "      <td>15</td>\n",
              "      <td>39</td>\n",
              "      <td>Mtwara</td>\n",
              "      <td>Mtindi 500ml</td>\n",
              "      <td>2</td>\n",
              "      <td>Careful</td>\n",
              "    </tr>\n",
              "    <tr>\n",
              "      <th>1</th>\n",
              "      <td>2</td>\n",
              "      <td>15</td>\n",
              "      <td>81</td>\n",
              "      <td>Zanzibar City</td>\n",
              "      <td>Fresh Milk 250ml</td>\n",
              "      <td>3</td>\n",
              "      <td>Spendthrift</td>\n",
              "    </tr>\n",
              "    <tr>\n",
              "      <th>2</th>\n",
              "      <td>3</td>\n",
              "      <td>16</td>\n",
              "      <td>6</td>\n",
              "      <td>Mtwara</td>\n",
              "      <td>Mtindi 500ml</td>\n",
              "      <td>2</td>\n",
              "      <td>Careful</td>\n",
              "    </tr>\n",
              "    <tr>\n",
              "      <th>3</th>\n",
              "      <td>4</td>\n",
              "      <td>16</td>\n",
              "      <td>77</td>\n",
              "      <td>Zanzibar City</td>\n",
              "      <td>Fresh Milk 250ml</td>\n",
              "      <td>3</td>\n",
              "      <td>Spendthrift</td>\n",
              "    </tr>\n",
              "    <tr>\n",
              "      <th>4</th>\n",
              "      <td>5</td>\n",
              "      <td>17</td>\n",
              "      <td>40</td>\n",
              "      <td>Mtwara</td>\n",
              "      <td>Mtindi 500ml</td>\n",
              "      <td>2</td>\n",
              "      <td>Careful</td>\n",
              "    </tr>\n",
              "  </tbody>\n",
              "</table>\n",
              "</div>\n",
              "    <div class=\"colab-df-buttons\">\n",
              "\n",
              "  <div class=\"colab-df-container\">\n",
              "    <button class=\"colab-df-convert\" onclick=\"convertToInteractive('df-7d262e58-9a74-416e-a312-028a49756f02')\"\n",
              "            title=\"Convert this dataframe to an interactive table.\"\n",
              "            style=\"display:none;\">\n",
              "\n",
              "  <svg xmlns=\"http://www.w3.org/2000/svg\" height=\"24px\" viewBox=\"0 -960 960 960\">\n",
              "    <path d=\"M120-120v-720h720v720H120Zm60-500h600v-160H180v160Zm220 220h160v-160H400v160Zm0 220h160v-160H400v160ZM180-400h160v-160H180v160Zm440 0h160v-160H620v160ZM180-180h160v-160H180v160Zm440 0h160v-160H620v160Z\"/>\n",
              "  </svg>\n",
              "    </button>\n",
              "\n",
              "  <style>\n",
              "    .colab-df-container {\n",
              "      display:flex;\n",
              "      gap: 12px;\n",
              "    }\n",
              "\n",
              "    .colab-df-convert {\n",
              "      background-color: #E8F0FE;\n",
              "      border: none;\n",
              "      border-radius: 50%;\n",
              "      cursor: pointer;\n",
              "      display: none;\n",
              "      fill: #1967D2;\n",
              "      height: 32px;\n",
              "      padding: 0 0 0 0;\n",
              "      width: 32px;\n",
              "    }\n",
              "\n",
              "    .colab-df-convert:hover {\n",
              "      background-color: #E2EBFA;\n",
              "      box-shadow: 0px 1px 2px rgba(60, 64, 67, 0.3), 0px 1px 3px 1px rgba(60, 64, 67, 0.15);\n",
              "      fill: #174EA6;\n",
              "    }\n",
              "\n",
              "    .colab-df-buttons div {\n",
              "      margin-bottom: 4px;\n",
              "    }\n",
              "\n",
              "    [theme=dark] .colab-df-convert {\n",
              "      background-color: #3B4455;\n",
              "      fill: #D2E3FC;\n",
              "    }\n",
              "\n",
              "    [theme=dark] .colab-df-convert:hover {\n",
              "      background-color: #434B5C;\n",
              "      box-shadow: 0px 1px 3px 1px rgba(0, 0, 0, 0.15);\n",
              "      filter: drop-shadow(0px 1px 2px rgba(0, 0, 0, 0.3));\n",
              "      fill: #FFFFFF;\n",
              "    }\n",
              "  </style>\n",
              "\n",
              "    <script>\n",
              "      const buttonEl =\n",
              "        document.querySelector('#df-7d262e58-9a74-416e-a312-028a49756f02 button.colab-df-convert');\n",
              "      buttonEl.style.display =\n",
              "        google.colab.kernel.accessAllowed ? 'block' : 'none';\n",
              "\n",
              "      async function convertToInteractive(key) {\n",
              "        const element = document.querySelector('#df-7d262e58-9a74-416e-a312-028a49756f02');\n",
              "        const dataTable =\n",
              "          await google.colab.kernel.invokeFunction('convertToInteractive',\n",
              "                                                    [key], {});\n",
              "        if (!dataTable) return;\n",
              "\n",
              "        const docLinkHtml = 'Like what you see? Visit the ' +\n",
              "          '<a target=\"_blank\" href=https://colab.research.google.com/notebooks/data_table.ipynb>data table notebook</a>'\n",
              "          + ' to learn more about interactive tables.';\n",
              "        element.innerHTML = '';\n",
              "        dataTable['output_type'] = 'display_data';\n",
              "        await google.colab.output.renderOutput(dataTable, element);\n",
              "        const docLink = document.createElement('div');\n",
              "        docLink.innerHTML = docLinkHtml;\n",
              "        element.appendChild(docLink);\n",
              "      }\n",
              "    </script>\n",
              "  </div>\n",
              "\n",
              "\n",
              "<div id=\"df-766ccc6a-3c6b-4c93-83b9-dd2fa2934569\">\n",
              "  <button class=\"colab-df-quickchart\" onclick=\"quickchart('df-766ccc6a-3c6b-4c93-83b9-dd2fa2934569')\"\n",
              "            title=\"Suggest charts\"\n",
              "            style=\"display:none;\">\n",
              "\n",
              "<svg xmlns=\"http://www.w3.org/2000/svg\" height=\"24px\"viewBox=\"0 0 24 24\"\n",
              "     width=\"24px\">\n",
              "    <g>\n",
              "        <path d=\"M19 3H5c-1.1 0-2 .9-2 2v14c0 1.1.9 2 2 2h14c1.1 0 2-.9 2-2V5c0-1.1-.9-2-2-2zM9 17H7v-7h2v7zm4 0h-2V7h2v10zm4 0h-2v-4h2v4z\"/>\n",
              "    </g>\n",
              "</svg>\n",
              "  </button>\n",
              "\n",
              "<style>\n",
              "  .colab-df-quickchart {\n",
              "      --bg-color: #E8F0FE;\n",
              "      --fill-color: #1967D2;\n",
              "      --hover-bg-color: #E2EBFA;\n",
              "      --hover-fill-color: #174EA6;\n",
              "      --disabled-fill-color: #AAA;\n",
              "      --disabled-bg-color: #DDD;\n",
              "  }\n",
              "\n",
              "  [theme=dark] .colab-df-quickchart {\n",
              "      --bg-color: #3B4455;\n",
              "      --fill-color: #D2E3FC;\n",
              "      --hover-bg-color: #434B5C;\n",
              "      --hover-fill-color: #FFFFFF;\n",
              "      --disabled-bg-color: #3B4455;\n",
              "      --disabled-fill-color: #666;\n",
              "  }\n",
              "\n",
              "  .colab-df-quickchart {\n",
              "    background-color: var(--bg-color);\n",
              "    border: none;\n",
              "    border-radius: 50%;\n",
              "    cursor: pointer;\n",
              "    display: none;\n",
              "    fill: var(--fill-color);\n",
              "    height: 32px;\n",
              "    padding: 0;\n",
              "    width: 32px;\n",
              "  }\n",
              "\n",
              "  .colab-df-quickchart:hover {\n",
              "    background-color: var(--hover-bg-color);\n",
              "    box-shadow: 0 1px 2px rgba(60, 64, 67, 0.3), 0 1px 3px 1px rgba(60, 64, 67, 0.15);\n",
              "    fill: var(--button-hover-fill-color);\n",
              "  }\n",
              "\n",
              "  .colab-df-quickchart-complete:disabled,\n",
              "  .colab-df-quickchart-complete:disabled:hover {\n",
              "    background-color: var(--disabled-bg-color);\n",
              "    fill: var(--disabled-fill-color);\n",
              "    box-shadow: none;\n",
              "  }\n",
              "\n",
              "  .colab-df-spinner {\n",
              "    border: 2px solid var(--fill-color);\n",
              "    border-color: transparent;\n",
              "    border-bottom-color: var(--fill-color);\n",
              "    animation:\n",
              "      spin 1s steps(1) infinite;\n",
              "  }\n",
              "\n",
              "  @keyframes spin {\n",
              "    0% {\n",
              "      border-color: transparent;\n",
              "      border-bottom-color: var(--fill-color);\n",
              "      border-left-color: var(--fill-color);\n",
              "    }\n",
              "    20% {\n",
              "      border-color: transparent;\n",
              "      border-left-color: var(--fill-color);\n",
              "      border-top-color: var(--fill-color);\n",
              "    }\n",
              "    30% {\n",
              "      border-color: transparent;\n",
              "      border-left-color: var(--fill-color);\n",
              "      border-top-color: var(--fill-color);\n",
              "      border-right-color: var(--fill-color);\n",
              "    }\n",
              "    40% {\n",
              "      border-color: transparent;\n",
              "      border-right-color: var(--fill-color);\n",
              "      border-top-color: var(--fill-color);\n",
              "    }\n",
              "    60% {\n",
              "      border-color: transparent;\n",
              "      border-right-color: var(--fill-color);\n",
              "    }\n",
              "    80% {\n",
              "      border-color: transparent;\n",
              "      border-right-color: var(--fill-color);\n",
              "      border-bottom-color: var(--fill-color);\n",
              "    }\n",
              "    90% {\n",
              "      border-color: transparent;\n",
              "      border-bottom-color: var(--fill-color);\n",
              "    }\n",
              "  }\n",
              "</style>\n",
              "\n",
              "  <script>\n",
              "    async function quickchart(key) {\n",
              "      const quickchartButtonEl =\n",
              "        document.querySelector('#' + key + ' button');\n",
              "      quickchartButtonEl.disabled = true;  // To prevent multiple clicks.\n",
              "      quickchartButtonEl.classList.add('colab-df-spinner');\n",
              "      try {\n",
              "        const charts = await google.colab.kernel.invokeFunction(\n",
              "            'suggestCharts', [key], {});\n",
              "      } catch (error) {\n",
              "        console.error('Error during call to suggestCharts:', error);\n",
              "      }\n",
              "      quickchartButtonEl.classList.remove('colab-df-spinner');\n",
              "      quickchartButtonEl.classList.add('colab-df-quickchart-complete');\n",
              "    }\n",
              "    (() => {\n",
              "      let quickchartButtonEl =\n",
              "        document.querySelector('#df-766ccc6a-3c6b-4c93-83b9-dd2fa2934569 button');\n",
              "      quickchartButtonEl.style.display =\n",
              "        google.colab.kernel.accessAllowed ? 'block' : 'none';\n",
              "    })();\n",
              "  </script>\n",
              "</div>\n",
              "\n",
              "    </div>\n",
              "  </div>\n"
            ],
            "application/vnd.google.colaboratory.intrinsic+json": {
              "type": "dataframe",
              "variable_name": "df",
              "summary": "{\n  \"name\": \"df\",\n  \"rows\": 200,\n  \"fields\": [\n    {\n      \"column\": \"Merchant Id\",\n      \"properties\": {\n        \"dtype\": \"number\",\n        \"std\": 57,\n        \"min\": 1,\n        \"max\": 200,\n        \"num_unique_values\": 200,\n        \"samples\": [\n          96,\n          16,\n          31\n        ],\n        \"semantic_type\": \"\",\n        \"description\": \"\"\n      }\n    },\n    {\n      \"column\": \"Annual_Revenue\",\n      \"properties\": {\n        \"dtype\": \"number\",\n        \"std\": 26,\n        \"min\": 15,\n        \"max\": 137,\n        \"num_unique_values\": 64,\n        \"samples\": [\n          87,\n          101,\n          15\n        ],\n        \"semantic_type\": \"\",\n        \"description\": \"\"\n      }\n    },\n    {\n      \"column\": \"Spending_Score\",\n      \"properties\": {\n        \"dtype\": \"number\",\n        \"std\": 25,\n        \"min\": 1,\n        \"max\": 99,\n        \"num_unique_values\": 84,\n        \"samples\": [\n          83,\n          39,\n          71\n        ],\n        \"semantic_type\": \"\",\n        \"description\": \"\"\n      }\n    },\n    {\n      \"column\": \"City\",\n      \"properties\": {\n        \"dtype\": \"category\",\n        \"num_unique_values\": 4,\n        \"samples\": [\n          \"Zanzibar City\",\n          \"Dar es Salaam\",\n          \"Mtwara\"\n        ],\n        \"semantic_type\": \"\",\n        \"description\": \"\"\n      }\n    },\n    {\n      \"column\": \"Most_Purchased_Product\",\n      \"properties\": {\n        \"dtype\": \"category\",\n        \"num_unique_values\": 4,\n        \"samples\": [\n          \"Fresh Milk 250ml\",\n          \"Mtindi 250ml\",\n          \"Mtindi 500ml\"\n        ],\n        \"semantic_type\": \"\",\n        \"description\": \"\"\n      }\n    },\n    {\n      \"column\": \"Cluster_Number\",\n      \"properties\": {\n        \"dtype\": \"number\",\n        \"std\": 1,\n        \"min\": 0,\n        \"max\": 4,\n        \"num_unique_values\": 5,\n        \"samples\": [\n          3,\n          1,\n          0\n        ],\n        \"semantic_type\": \"\",\n        \"description\": \"\"\n      }\n    },\n    {\n      \"column\": \"Cluster_Nature\",\n      \"properties\": {\n        \"dtype\": \"category\",\n        \"num_unique_values\": 5,\n        \"samples\": [\n          \"Spendthrift\",\n          \"Miser\",\n          \"General\"\n        ],\n        \"semantic_type\": \"\",\n        \"description\": \"\"\n      }\n    }\n  ]\n}"
            }
          },
          "metadata": {},
          "execution_count": 262
        }
      ]
    },
    {
      "cell_type": "code",
      "source": [
        "# Check basic statistics\n",
        "df.describe()"
      ],
      "metadata": {
        "id": "AuxvjQiTumbP",
        "colab": {
          "base_uri": "https://localhost:8080/",
          "height": 300
        },
        "outputId": "8fe50e9c-5c8e-472b-a03a-081a780c12f9"
      },
      "execution_count": 263,
      "outputs": [
        {
          "output_type": "execute_result",
          "data": {
            "text/plain": [
              "       Merchant Id  Annual_Revenue  Spending_Score  Cluster_Number\n",
              "count   200.000000      200.000000      200.000000      200.000000\n",
              "mean    100.500000       60.560000       50.200000        1.515000\n",
              "std      57.879185       26.264721       25.823522        1.569103\n",
              "min       1.000000       15.000000        1.000000        0.000000\n",
              "25%      50.750000       41.500000       34.750000        0.000000\n",
              "50%     100.500000       61.500000       50.000000        1.000000\n",
              "75%     150.250000       78.000000       73.000000        3.000000\n",
              "max     200.000000      137.000000       99.000000        4.000000"
            ],
            "text/html": [
              "\n",
              "  <div id=\"df-45617a37-1b4d-4b08-a30d-2d33c961b92b\" class=\"colab-df-container\">\n",
              "    <div>\n",
              "<style scoped>\n",
              "    .dataframe tbody tr th:only-of-type {\n",
              "        vertical-align: middle;\n",
              "    }\n",
              "\n",
              "    .dataframe tbody tr th {\n",
              "        vertical-align: top;\n",
              "    }\n",
              "\n",
              "    .dataframe thead th {\n",
              "        text-align: right;\n",
              "    }\n",
              "</style>\n",
              "<table border=\"1\" class=\"dataframe\">\n",
              "  <thead>\n",
              "    <tr style=\"text-align: right;\">\n",
              "      <th></th>\n",
              "      <th>Merchant Id</th>\n",
              "      <th>Annual_Revenue</th>\n",
              "      <th>Spending_Score</th>\n",
              "      <th>Cluster_Number</th>\n",
              "    </tr>\n",
              "  </thead>\n",
              "  <tbody>\n",
              "    <tr>\n",
              "      <th>count</th>\n",
              "      <td>200.000000</td>\n",
              "      <td>200.000000</td>\n",
              "      <td>200.000000</td>\n",
              "      <td>200.000000</td>\n",
              "    </tr>\n",
              "    <tr>\n",
              "      <th>mean</th>\n",
              "      <td>100.500000</td>\n",
              "      <td>60.560000</td>\n",
              "      <td>50.200000</td>\n",
              "      <td>1.515000</td>\n",
              "    </tr>\n",
              "    <tr>\n",
              "      <th>std</th>\n",
              "      <td>57.879185</td>\n",
              "      <td>26.264721</td>\n",
              "      <td>25.823522</td>\n",
              "      <td>1.569103</td>\n",
              "    </tr>\n",
              "    <tr>\n",
              "      <th>min</th>\n",
              "      <td>1.000000</td>\n",
              "      <td>15.000000</td>\n",
              "      <td>1.000000</td>\n",
              "      <td>0.000000</td>\n",
              "    </tr>\n",
              "    <tr>\n",
              "      <th>25%</th>\n",
              "      <td>50.750000</td>\n",
              "      <td>41.500000</td>\n",
              "      <td>34.750000</td>\n",
              "      <td>0.000000</td>\n",
              "    </tr>\n",
              "    <tr>\n",
              "      <th>50%</th>\n",
              "      <td>100.500000</td>\n",
              "      <td>61.500000</td>\n",
              "      <td>50.000000</td>\n",
              "      <td>1.000000</td>\n",
              "    </tr>\n",
              "    <tr>\n",
              "      <th>75%</th>\n",
              "      <td>150.250000</td>\n",
              "      <td>78.000000</td>\n",
              "      <td>73.000000</td>\n",
              "      <td>3.000000</td>\n",
              "    </tr>\n",
              "    <tr>\n",
              "      <th>max</th>\n",
              "      <td>200.000000</td>\n",
              "      <td>137.000000</td>\n",
              "      <td>99.000000</td>\n",
              "      <td>4.000000</td>\n",
              "    </tr>\n",
              "  </tbody>\n",
              "</table>\n",
              "</div>\n",
              "    <div class=\"colab-df-buttons\">\n",
              "\n",
              "  <div class=\"colab-df-container\">\n",
              "    <button class=\"colab-df-convert\" onclick=\"convertToInteractive('df-45617a37-1b4d-4b08-a30d-2d33c961b92b')\"\n",
              "            title=\"Convert this dataframe to an interactive table.\"\n",
              "            style=\"display:none;\">\n",
              "\n",
              "  <svg xmlns=\"http://www.w3.org/2000/svg\" height=\"24px\" viewBox=\"0 -960 960 960\">\n",
              "    <path d=\"M120-120v-720h720v720H120Zm60-500h600v-160H180v160Zm220 220h160v-160H400v160Zm0 220h160v-160H400v160ZM180-400h160v-160H180v160Zm440 0h160v-160H620v160ZM180-180h160v-160H180v160Zm440 0h160v-160H620v160Z\"/>\n",
              "  </svg>\n",
              "    </button>\n",
              "\n",
              "  <style>\n",
              "    .colab-df-container {\n",
              "      display:flex;\n",
              "      gap: 12px;\n",
              "    }\n",
              "\n",
              "    .colab-df-convert {\n",
              "      background-color: #E8F0FE;\n",
              "      border: none;\n",
              "      border-radius: 50%;\n",
              "      cursor: pointer;\n",
              "      display: none;\n",
              "      fill: #1967D2;\n",
              "      height: 32px;\n",
              "      padding: 0 0 0 0;\n",
              "      width: 32px;\n",
              "    }\n",
              "\n",
              "    .colab-df-convert:hover {\n",
              "      background-color: #E2EBFA;\n",
              "      box-shadow: 0px 1px 2px rgba(60, 64, 67, 0.3), 0px 1px 3px 1px rgba(60, 64, 67, 0.15);\n",
              "      fill: #174EA6;\n",
              "    }\n",
              "\n",
              "    .colab-df-buttons div {\n",
              "      margin-bottom: 4px;\n",
              "    }\n",
              "\n",
              "    [theme=dark] .colab-df-convert {\n",
              "      background-color: #3B4455;\n",
              "      fill: #D2E3FC;\n",
              "    }\n",
              "\n",
              "    [theme=dark] .colab-df-convert:hover {\n",
              "      background-color: #434B5C;\n",
              "      box-shadow: 0px 1px 3px 1px rgba(0, 0, 0, 0.15);\n",
              "      filter: drop-shadow(0px 1px 2px rgba(0, 0, 0, 0.3));\n",
              "      fill: #FFFFFF;\n",
              "    }\n",
              "  </style>\n",
              "\n",
              "    <script>\n",
              "      const buttonEl =\n",
              "        document.querySelector('#df-45617a37-1b4d-4b08-a30d-2d33c961b92b button.colab-df-convert');\n",
              "      buttonEl.style.display =\n",
              "        google.colab.kernel.accessAllowed ? 'block' : 'none';\n",
              "\n",
              "      async function convertToInteractive(key) {\n",
              "        const element = document.querySelector('#df-45617a37-1b4d-4b08-a30d-2d33c961b92b');\n",
              "        const dataTable =\n",
              "          await google.colab.kernel.invokeFunction('convertToInteractive',\n",
              "                                                    [key], {});\n",
              "        if (!dataTable) return;\n",
              "\n",
              "        const docLinkHtml = 'Like what you see? Visit the ' +\n",
              "          '<a target=\"_blank\" href=https://colab.research.google.com/notebooks/data_table.ipynb>data table notebook</a>'\n",
              "          + ' to learn more about interactive tables.';\n",
              "        element.innerHTML = '';\n",
              "        dataTable['output_type'] = 'display_data';\n",
              "        await google.colab.output.renderOutput(dataTable, element);\n",
              "        const docLink = document.createElement('div');\n",
              "        docLink.innerHTML = docLinkHtml;\n",
              "        element.appendChild(docLink);\n",
              "      }\n",
              "    </script>\n",
              "  </div>\n",
              "\n",
              "\n",
              "<div id=\"df-4adce32c-9c0d-4610-8693-47adbd040be1\">\n",
              "  <button class=\"colab-df-quickchart\" onclick=\"quickchart('df-4adce32c-9c0d-4610-8693-47adbd040be1')\"\n",
              "            title=\"Suggest charts\"\n",
              "            style=\"display:none;\">\n",
              "\n",
              "<svg xmlns=\"http://www.w3.org/2000/svg\" height=\"24px\"viewBox=\"0 0 24 24\"\n",
              "     width=\"24px\">\n",
              "    <g>\n",
              "        <path d=\"M19 3H5c-1.1 0-2 .9-2 2v14c0 1.1.9 2 2 2h14c1.1 0 2-.9 2-2V5c0-1.1-.9-2-2-2zM9 17H7v-7h2v7zm4 0h-2V7h2v10zm4 0h-2v-4h2v4z\"/>\n",
              "    </g>\n",
              "</svg>\n",
              "  </button>\n",
              "\n",
              "<style>\n",
              "  .colab-df-quickchart {\n",
              "      --bg-color: #E8F0FE;\n",
              "      --fill-color: #1967D2;\n",
              "      --hover-bg-color: #E2EBFA;\n",
              "      --hover-fill-color: #174EA6;\n",
              "      --disabled-fill-color: #AAA;\n",
              "      --disabled-bg-color: #DDD;\n",
              "  }\n",
              "\n",
              "  [theme=dark] .colab-df-quickchart {\n",
              "      --bg-color: #3B4455;\n",
              "      --fill-color: #D2E3FC;\n",
              "      --hover-bg-color: #434B5C;\n",
              "      --hover-fill-color: #FFFFFF;\n",
              "      --disabled-bg-color: #3B4455;\n",
              "      --disabled-fill-color: #666;\n",
              "  }\n",
              "\n",
              "  .colab-df-quickchart {\n",
              "    background-color: var(--bg-color);\n",
              "    border: none;\n",
              "    border-radius: 50%;\n",
              "    cursor: pointer;\n",
              "    display: none;\n",
              "    fill: var(--fill-color);\n",
              "    height: 32px;\n",
              "    padding: 0;\n",
              "    width: 32px;\n",
              "  }\n",
              "\n",
              "  .colab-df-quickchart:hover {\n",
              "    background-color: var(--hover-bg-color);\n",
              "    box-shadow: 0 1px 2px rgba(60, 64, 67, 0.3), 0 1px 3px 1px rgba(60, 64, 67, 0.15);\n",
              "    fill: var(--button-hover-fill-color);\n",
              "  }\n",
              "\n",
              "  .colab-df-quickchart-complete:disabled,\n",
              "  .colab-df-quickchart-complete:disabled:hover {\n",
              "    background-color: var(--disabled-bg-color);\n",
              "    fill: var(--disabled-fill-color);\n",
              "    box-shadow: none;\n",
              "  }\n",
              "\n",
              "  .colab-df-spinner {\n",
              "    border: 2px solid var(--fill-color);\n",
              "    border-color: transparent;\n",
              "    border-bottom-color: var(--fill-color);\n",
              "    animation:\n",
              "      spin 1s steps(1) infinite;\n",
              "  }\n",
              "\n",
              "  @keyframes spin {\n",
              "    0% {\n",
              "      border-color: transparent;\n",
              "      border-bottom-color: var(--fill-color);\n",
              "      border-left-color: var(--fill-color);\n",
              "    }\n",
              "    20% {\n",
              "      border-color: transparent;\n",
              "      border-left-color: var(--fill-color);\n",
              "      border-top-color: var(--fill-color);\n",
              "    }\n",
              "    30% {\n",
              "      border-color: transparent;\n",
              "      border-left-color: var(--fill-color);\n",
              "      border-top-color: var(--fill-color);\n",
              "      border-right-color: var(--fill-color);\n",
              "    }\n",
              "    40% {\n",
              "      border-color: transparent;\n",
              "      border-right-color: var(--fill-color);\n",
              "      border-top-color: var(--fill-color);\n",
              "    }\n",
              "    60% {\n",
              "      border-color: transparent;\n",
              "      border-right-color: var(--fill-color);\n",
              "    }\n",
              "    80% {\n",
              "      border-color: transparent;\n",
              "      border-right-color: var(--fill-color);\n",
              "      border-bottom-color: var(--fill-color);\n",
              "    }\n",
              "    90% {\n",
              "      border-color: transparent;\n",
              "      border-bottom-color: var(--fill-color);\n",
              "    }\n",
              "  }\n",
              "</style>\n",
              "\n",
              "  <script>\n",
              "    async function quickchart(key) {\n",
              "      const quickchartButtonEl =\n",
              "        document.querySelector('#' + key + ' button');\n",
              "      quickchartButtonEl.disabled = true;  // To prevent multiple clicks.\n",
              "      quickchartButtonEl.classList.add('colab-df-spinner');\n",
              "      try {\n",
              "        const charts = await google.colab.kernel.invokeFunction(\n",
              "            'suggestCharts', [key], {});\n",
              "      } catch (error) {\n",
              "        console.error('Error during call to suggestCharts:', error);\n",
              "      }\n",
              "      quickchartButtonEl.classList.remove('colab-df-spinner');\n",
              "      quickchartButtonEl.classList.add('colab-df-quickchart-complete');\n",
              "    }\n",
              "    (() => {\n",
              "      let quickchartButtonEl =\n",
              "        document.querySelector('#df-4adce32c-9c0d-4610-8693-47adbd040be1 button');\n",
              "      quickchartButtonEl.style.display =\n",
              "        google.colab.kernel.accessAllowed ? 'block' : 'none';\n",
              "    })();\n",
              "  </script>\n",
              "</div>\n",
              "\n",
              "    </div>\n",
              "  </div>\n"
            ],
            "application/vnd.google.colaboratory.intrinsic+json": {
              "type": "dataframe",
              "summary": "{\n  \"name\": \"df\",\n  \"rows\": 8,\n  \"fields\": [\n    {\n      \"column\": \"Merchant Id\",\n      \"properties\": {\n        \"dtype\": \"number\",\n        \"std\": 71.77644232399086,\n        \"min\": 1.0,\n        \"max\": 200.0,\n        \"num_unique_values\": 6,\n        \"samples\": [\n          200.0,\n          100.5,\n          150.25\n        ],\n        \"semantic_type\": \"\",\n        \"description\": \"\"\n      }\n    },\n    {\n      \"column\": \"Annual_Revenue\",\n      \"properties\": {\n        \"dtype\": \"number\",\n        \"std\": 62.01038341270951,\n        \"min\": 15.0,\n        \"max\": 200.0,\n        \"num_unique_values\": 8,\n        \"samples\": [\n          60.56,\n          61.5,\n          200.0\n        ],\n        \"semantic_type\": \"\",\n        \"description\": \"\"\n      }\n    },\n    {\n      \"column\": \"Spending_Score\",\n      \"properties\": {\n        \"dtype\": \"number\",\n        \"std\": 61.42496609345541,\n        \"min\": 1.0,\n        \"max\": 200.0,\n        \"num_unique_values\": 8,\n        \"samples\": [\n          50.2,\n          50.0,\n          200.0\n        ],\n        \"semantic_type\": \"\",\n        \"description\": \"\"\n      }\n    },\n    {\n      \"column\": \"Cluster_Number\",\n      \"properties\": {\n        \"dtype\": \"number\",\n        \"std\": 70.16429186741595,\n        \"min\": 0.0,\n        \"max\": 200.0,\n        \"num_unique_values\": 7,\n        \"samples\": [\n          200.0,\n          1.515,\n          3.0\n        ],\n        \"semantic_type\": \"\",\n        \"description\": \"\"\n      }\n    }\n  ]\n}"
            }
          },
          "metadata": {},
          "execution_count": 263
        }
      ]
    },
    {
      "cell_type": "code",
      "source": [
        "# Check data types and missing values\n",
        "df.info()"
      ],
      "metadata": {
        "colab": {
          "base_uri": "https://localhost:8080/"
        },
        "id": "9a8lefGcqZ4i",
        "outputId": "675f5e7a-832e-4b7e-c4b5-c12366c73840"
      },
      "execution_count": 264,
      "outputs": [
        {
          "output_type": "stream",
          "name": "stdout",
          "text": [
            "<class 'pandas.core.frame.DataFrame'>\n",
            "RangeIndex: 200 entries, 0 to 199\n",
            "Data columns (total 7 columns):\n",
            " #   Column                  Non-Null Count  Dtype \n",
            "---  ------                  --------------  ----- \n",
            " 0   Merchant Id             200 non-null    int64 \n",
            " 1   Annual_Revenue          200 non-null    int64 \n",
            " 2   Spending_Score          200 non-null    int64 \n",
            " 3   City                    200 non-null    object\n",
            " 4   Most_Purchased_Product  200 non-null    object\n",
            " 5   Cluster_Number          200 non-null    int64 \n",
            " 6   Cluster_Nature          200 non-null    object\n",
            "dtypes: int64(4), object(3)\n",
            "memory usage: 11.1+ KB\n"
          ]
        }
      ]
    },
    {
      "cell_type": "code",
      "source": [
        "# Check for missing values\n",
        "df.isnull().sum()"
      ],
      "metadata": {
        "colab": {
          "base_uri": "https://localhost:8080/"
        },
        "id": "eSV69CT6qX-I",
        "outputId": "904e505d-2d2f-40ed-a64d-832f4e493b5c"
      },
      "execution_count": 265,
      "outputs": [
        {
          "output_type": "execute_result",
          "data": {
            "text/plain": [
              "Merchant Id               0\n",
              "Annual_Revenue            0\n",
              "Spending_Score            0\n",
              "City                      0\n",
              "Most_Purchased_Product    0\n",
              "Cluster_Number            0\n",
              "Cluster_Nature            0\n",
              "dtype: int64"
            ]
          },
          "metadata": {},
          "execution_count": 265
        }
      ]
    },
    {
      "cell_type": "markdown",
      "source": [
        "No null values in dataset"
      ],
      "metadata": {
        "id": "6oqKq7wIDo44"
      }
    },
    {
      "cell_type": "code",
      "source": [
        "df['City'].value_counts()"
      ],
      "metadata": {
        "colab": {
          "base_uri": "https://localhost:8080/"
        },
        "id": "1XBQFuXw5r4k",
        "outputId": "4c245538-d77d-45e8-ae9e-f31f74c06188"
      },
      "execution_count": 266,
      "outputs": [
        {
          "output_type": "execute_result",
          "data": {
            "text/plain": [
              "City\n",
              "Dar es Salaam    82\n",
              "Moshi            76\n",
              "Mtwara           21\n",
              "Zanzibar City    21\n",
              "Name: count, dtype: int64"
            ]
          },
          "metadata": {},
          "execution_count": 266
        }
      ]
    },
    {
      "cell_type": "code",
      "source": [
        "df['Most_Purchased_Product'].value_counts()"
      ],
      "metadata": {
        "colab": {
          "base_uri": "https://localhost:8080/"
        },
        "id": "yBQbpUxQ5xPe",
        "outputId": "6e637d83-65e2-4804-dfce-da86822490bb"
      },
      "execution_count": 267,
      "outputs": [
        {
          "output_type": "execute_result",
          "data": {
            "text/plain": [
              "Most_Purchased_Product\n",
              "Mtindi 250ml        82\n",
              "Fresh Milk 1ltr     76\n",
              "Mtindi 500ml        21\n",
              "Fresh Milk 250ml    21\n",
              "Name: count, dtype: int64"
            ]
          },
          "metadata": {},
          "execution_count": 267
        }
      ]
    },
    {
      "cell_type": "code",
      "source": [
        "#Looking for null values\n",
        "df.isna().sum()"
      ],
      "metadata": {
        "colab": {
          "base_uri": "https://localhost:8080/"
        },
        "id": "1mWNNmrStgWx",
        "outputId": "dd801ef1-a2b1-40a1-a3fa-96328a657983"
      },
      "execution_count": 268,
      "outputs": [
        {
          "output_type": "execute_result",
          "data": {
            "text/plain": [
              "Merchant Id               0\n",
              "Annual_Revenue            0\n",
              "Spending_Score            0\n",
              "City                      0\n",
              "Most_Purchased_Product    0\n",
              "Cluster_Number            0\n",
              "Cluster_Nature            0\n",
              "dtype: int64"
            ]
          },
          "metadata": {},
          "execution_count": 268
        }
      ]
    },
    {
      "cell_type": "code",
      "source": [
        "# Handle missing values (if any)\n",
        "df['Annual_Revenue'].fillna(df['Annual_Revenue'].median(), inplace=True)\n",
        "df['Spending_Score'].fillna(df['Spending_Score'].median(), inplace=True)"
      ],
      "metadata": {
        "id": "So3i8oXnqbkp"
      },
      "execution_count": 269,
      "outputs": []
    },
    {
      "cell_type": "markdown",
      "source": [
        "It will replace missing values with median"
      ],
      "metadata": {
        "id": "VSoGIUOgEvi4"
      }
    },
    {
      "cell_type": "markdown",
      "source": [
        "# **Exploratory Data Anaylsis(EDA)**"
      ],
      "metadata": {
        "id": "H1bTUhXnqzo3"
      }
    },
    {
      "cell_type": "code",
      "source": [
        "# Distribution of Annual Revenue\n",
        "plt.figure(figsize=(6, 4))\n",
        "sns.histplot(df['Annual_Revenue'], bins=20, kde=True)\n",
        "plt.title('Distribution of Annual Revenue')\n",
        "plt.xlabel('Annual Revenue')\n",
        "plt.ylabel('Count')\n",
        "plt.show()"
      ],
      "metadata": {
        "colab": {
          "base_uri": "https://localhost:8080/",
          "height": 410
        },
        "id": "yg7F_npnqtsF",
        "outputId": "37955cd1-91b2-4ec1-b94f-61e409cd32cf"
      },
      "execution_count": 270,
      "outputs": [
        {
          "output_type": "display_data",
          "data": {
            "text/plain": [
              "<Figure size 600x400 with 1 Axes>"
            ],
            "image/png": "[encoded data removed]"
          },
          "metadata": {}
        }
      ]
    },
    {
      "cell_type": "code",
      "source": [
        "# Distribution of Spending Score\n",
        "plt.figure(figsize=(6, 4))\n",
        "sns.histplot(df['Spending_Score'], bins=20, kde=True)\n",
        "plt.title('Distribution of Spending Score')\n",
        "plt.xlabel('Spending Score')\n",
        "plt.ylabel('Count')\n",
        "plt.show()"
      ],
      "metadata": {
        "colab": {
          "base_uri": "https://localhost:8080/",
          "height": 410
        },
        "id": "bLGLpCitq74I",
        "outputId": "6b06ed05-f04a-4630-d237-131233b53799"
      },
      "execution_count": 271,
      "outputs": [
        {
          "output_type": "display_data",
          "data": {
            "text/plain": [
              "<Figure size 600x400 with 1 Axes>"
            ],
            "image/png": "[encoded data removed]"
          },
          "metadata": {}
        }
      ]
    },
    {
      "cell_type": "code",
      "source": [
        "# Pair plot for selected features\n",
        "sns.pairplot(df[['Annual_Revenue', 'Spending_Score', 'City']], hue='City', palette='Set1')\n",
        "plt.suptitle('Pair Plot of Selected Features', y=1.02)\n",
        "plt.show()\n"
      ],
      "metadata": {
        "colab": {
          "base_uri": "https://localhost:8080/",
          "height": 535
        },
        "id": "IX_IgN33rHBX",
        "outputId": "94d867f0-01dc-461a-9bdb-9607dcd1bed1"
      },
      "execution_count": 272,
      "outputs": [
        {
          "output_type": "display_data",
          "data": {
            "text/plain": [
              "<Figure size 651.5x500 with 6 Axes>"
            ],
            "image/png": "[encoded data removed]"
          },
          "metadata": {}
        }
      ]
    },
    {
      "cell_type": "code",
      "source": [
        "# Correlation heatmap\n",
        "plt.figure(figsize=(10, 8))\n",
        "sns.heatmap(df[['Annual_Revenue', 'Spending_Score']].corr(), annot=True, cmap='coolwarm', center=0)\n",
        "plt.title('Correlation Heatmap')\n",
        "plt.show()"
      ],
      "metadata": {
        "colab": {
          "base_uri": "https://localhost:8080/",
          "height": 699
        },
        "id": "rcKQHiCMrRKE",
        "outputId": "ee0835f8-d58d-4b0a-9a99-5804c96bf875"
      },
      "execution_count": 273,
      "outputs": [
        {
          "output_type": "display_data",
          "data": {
            "text/plain": [
              "<Figure size 1000x800 with 2 Axes>"
            ],
            "image/png": "[encoded data removed]"
          },
          "metadata": {}
        }
      ]
    },
    {
      "cell_type": "code",
      "source": [
        "#Creating values for the elbow\n",
        "plt.figure(figsize=(6, 4))\n",
        "X = df.loc[:,[\"Annual_Revenue\", \"Spending_Score\"]]\n",
        "inertia = []\n",
        "k = range(1,20)\n",
        "for i in k:\n",
        "    means_k = KMeans(n_clusters=i, random_state=0)\n",
        "    means_k.fit(X)\n",
        "    inertia.append(means_k.inertia_)\n",
        "\n",
        "#Plotting the elbow\n",
        "plt.plot(k , inertia , 'bo-')\n",
        "plt.xlabel('Number of Clusters') , plt.ylabel('Inertia(WCSS)')\n",
        "plt.show()\n"
      ],
      "metadata": {
        "colab": {
          "base_uri": "https://localhost:8080/",
          "height": 1000
        },
        "id": "MSILpLyIBgbu",
        "outputId": "bf381397-fb08-47ea-a09c-b9382d0515d2"
      },
      "execution_count": 274,
      "outputs": [
        {
          "output_type": "stream",
          "name": "stderr",
          "text": [
            "/usr/local/lib/python3.10/dist-packages/sklearn/cluster/_kmeans.py:870: FutureWarning: The default value of `n_init` will change from 10 to 'auto' in 1.4. Set the value of `n_init` explicitly to suppress the warning\n",
            "  warnings.warn(\n",
            "/usr/local/lib/python3.10/dist-packages/sklearn/cluster/_kmeans.py:870: FutureWarning: The default value of `n_init` will change from 10 to 'auto' in 1.4. Set the value of `n_init` explicitly to suppress the warning\n",
            "  warnings.warn(\n",
            "/usr/local/lib/python3.10/dist-packages/sklearn/cluster/_kmeans.py:870: FutureWarning: The default value of `n_init` will change from 10 to 'auto' in 1.4. Set the value of `n_init` explicitly to suppress the warning\n",
            "  warnings.warn(\n",
            "/usr/local/lib/python3.10/dist-packages/sklearn/cluster/_kmeans.py:870: FutureWarning: The default value of `n_init` will change from 10 to 'auto' in 1.4. Set the value of `n_init` explicitly to suppress the warning\n",
            "  warnings.warn(\n",
            "/usr/local/lib/python3.10/dist-packages/sklearn/cluster/_kmeans.py:870: FutureWarning: The default value of `n_init` will change from 10 to 'auto' in 1.4. Set the value of `n_init` explicitly to suppress the warning\n",
            "  warnings.warn(\n",
            "/usr/local/lib/python3.10/dist-packages/sklearn/cluster/_kmeans.py:870: FutureWarning: The default value of `n_init` will change from 10 to 'auto' in 1.4. Set the value of `n_init` explicitly to suppress the warning\n",
            "  warnings.warn(\n",
            "/usr/local/lib/python3.10/dist-packages/sklearn/cluster/_kmeans.py:870: FutureWarning: The default value of `n_init` will change from 10 to 'auto' in 1.4. Set the value of `n_init` explicitly to suppress the warning\n",
            "  warnings.warn(\n",
            "/usr/local/lib/python3.10/dist-packages/sklearn/cluster/_kmeans.py:870: FutureWarning: The default value of `n_init` will change from 10 to 'auto' in 1.4. Set the value of `n_init` explicitly to suppress the warning\n",
            "  warnings.warn(\n",
            "/usr/local/lib/python3.10/dist-packages/sklearn/cluster/_kmeans.py:870: FutureWarning: The default value of `n_init` will change from 10 to 'auto' in 1.4. Set the value of `n_init` explicitly to suppress the warning\n",
            "  warnings.warn(\n",
            "/usr/local/lib/python3.10/dist-packages/sklearn/cluster/_kmeans.py:870: FutureWarning: The default value of `n_init` will change from 10 to 'auto' in 1.4. Set the value of `n_init` explicitly to suppress the warning\n",
            "  warnings.warn(\n",
            "/usr/local/lib/python3.10/dist-packages/sklearn/cluster/_kmeans.py:870: FutureWarning: The default value of `n_init` will change from 10 to 'auto' in 1.4. Set the value of `n_init` explicitly to suppress the warning\n",
            "  warnings.warn(\n",
            "/usr/local/lib/python3.10/dist-packages/sklearn/cluster/_kmeans.py:870: FutureWarning: The default value of `n_init` will change from 10 to 'auto' in 1.4. Set the value of `n_init` explicitly to suppress the warning\n",
            "  warnings.warn(\n",
            "/usr/local/lib/python3.10/dist-packages/sklearn/cluster/_kmeans.py:870: FutureWarning: The default value of `n_init` will change from 10 to 'auto' in 1.4. Set the value of `n_init` explicitly to suppress the warning\n",
            "  warnings.warn(\n",
            "/usr/local/lib/python3.10/dist-packages/sklearn/cluster/_kmeans.py:870: FutureWarning: The default value of `n_init` will change from 10 to 'auto' in 1.4. Set the value of `n_init` explicitly to suppress the warning\n",
            "  warnings.warn(\n",
            "/usr/local/lib/python3.10/dist-packages/sklearn/cluster/_kmeans.py:870: FutureWarning: The default value of `n_init` will change from 10 to 'auto' in 1.4. Set the value of `n_init` explicitly to suppress the warning\n",
            "  warnings.warn(\n",
            "/usr/local/lib/python3.10/dist-packages/sklearn/cluster/_kmeans.py:870: FutureWarning: The default value of `n_init` will change from 10 to 'auto' in 1.4. Set the value of `n_init` explicitly to suppress the warning\n",
            "  warnings.warn(\n",
            "/usr/local/lib/python3.10/dist-packages/sklearn/cluster/_kmeans.py:870: FutureWarning: The default value of `n_init` will change from 10 to 'auto' in 1.4. Set the value of `n_init` explicitly to suppress the warning\n",
            "  warnings.warn(\n",
            "/usr/local/lib/python3.10/dist-packages/sklearn/cluster/_kmeans.py:870: FutureWarning: The default value of `n_init` will change from 10 to 'auto' in 1.4. Set the value of `n_init` explicitly to suppress the warning\n",
            "  warnings.warn(\n",
            "/usr/local/lib/python3.10/dist-packages/sklearn/cluster/_kmeans.py:870: FutureWarning: The default value of `n_init` will change from 10 to 'auto' in 1.4. Set the value of `n_init` explicitly to suppress the warning\n",
            "  warnings.warn(\n"
          ]
        },
        {
          "output_type": "display_data",
          "data": {
            "text/plain": [
              "<Figure size 600x400 with 1 Axes>"
            ],
            "image/png": "[encoded data removed]"
          },
          "metadata": {}
        }
      ]
    },
    {
      "cell_type": "code",
      "source": [
        "# Fitting K-Means to the dataset\n",
        "kmeans = KMeans(n_clusters = 5, init = 'k-means++', random_state = 42)\n",
        "y_kmeans = kmeans.fit_predict(X)\n",
        "labels = kmeans.labels_\n",
        "centroids = kmeans.cluster_centers_\n"
      ],
      "metadata": {
        "colab": {
          "base_uri": "https://localhost:8080/"
        },
        "id": "wL9DPNXU6xJ6",
        "outputId": "2f637d55-3f6f-4ef9-955e-fa0116f76e48"
      },
      "execution_count": 275,
      "outputs": [
        {
          "output_type": "stream",
          "name": "stderr",
          "text": [
            "/usr/local/lib/python3.10/dist-packages/sklearn/cluster/_kmeans.py:870: FutureWarning: The default value of `n_init` will change from 10 to 'auto' in 1.4. Set the value of `n_init` explicitly to suppress the warning\n",
            "  warnings.warn(\n"
          ]
        }
      ]
    },
    {
      "cell_type": "code",
      "source": [
        "print(y_kmeans)"
      ],
      "metadata": {
        "colab": {
          "base_uri": "https://localhost:8080/"
        },
        "id": "Xz-92dG1B81Q",
        "outputId": "e09bef6c-e2fe-4682-9beb-48531c5dca11"
      },
      "execution_count": 276,
      "outputs": [
        {
          "output_type": "stream",
          "name": "stdout",
          "text": [
            "[2 3 2 3 2 3 2 3 2 3 2 3 2 3 2 3 2 3 2 3 2 3 2 3 2 3 2 3 2 3 2 3 2 3 2 3 2\n",
            " 3 2 3 2 3 2 0 2 3 0 0 0 0 0 0 0 0 0 0 0 0 0 0 0 0 0 0 0 0 0 0 0 0 0 0 0 0\n",
            " 0 0 0 0 0 0 0 0 0 0 0 0 0 0 0 0 0 0 0 0 0 0 0 0 0 0 0 0 0 0 0 0 0 0 0 0 0\n",
            " 0 0 0 0 0 0 0 0 0 0 0 0 4 1 4 0 4 1 4 1 4 0 4 1 4 1 4 1 4 1 4 0 4 1 4 1 4\n",
            " 1 4 1 4 1 4 1 4 1 4 1 4 1 4 1 4 1 4 1 4 1 4 1 4 1 4 1 4 1 4 1 4 1 4 1 4 1\n",
            " 4 1 4 1 4 1 4 1 4 1 4 1 4 1 4]\n"
          ]
        }
      ]
    },
    {
      "cell_type": "code",
      "source": [
        "len(y_kmeans)"
      ],
      "metadata": {
        "colab": {
          "base_uri": "https://localhost:8080/"
        },
        "id": "ZoPyWYg4CDHc",
        "outputId": "88d9194f-8a09-4f46-a531-84d6612333c9"
      },
      "execution_count": 277,
      "outputs": [
        {
          "output_type": "execute_result",
          "data": {
            "text/plain": [
              "200"
            ]
          },
          "metadata": {},
          "execution_count": 277
        }
      ]
    },
    {
      "cell_type": "code",
      "source": [
        "# Visualising the clusters\n",
        "centroids = kmeans.cluster_centers_\n",
        "\n",
        "plt.figure(figsize=(10, 6))\n",
        "plt.scatter(X[y_kmeans == 0]['Annual_Revenue'], X[y_kmeans == 0]['Spending_Score'], s = 100, c = 'red', label = 'c1_General')\n",
        "plt.scatter(X[y_kmeans == 1]['Annual_Revenue'], X[y_kmeans == 1]['Spending_Score'], s = 100, c = 'blue', label = 'c2_Miser')\n",
        "plt.scatter(X[y_kmeans == 2]['Annual_Revenue'], X[y_kmeans == 2]['Spending_Score'], s = 100, c = 'green', label = 'c3_Careful')\n",
        "plt.scatter(X[y_kmeans == 3]['Annual_Revenue'], X[y_kmeans == 3]['Spending_Score'], s = 100, c = 'cyan', label = 'c4_Spendthrift')\n",
        "plt.scatter(X[y_kmeans == 4]['Annual_Revenue'], X[y_kmeans == 4]['Spending_Score'], s = 100, c = 'magenta', label = 'c5_Target')\n",
        "plt.scatter(centroids[:, 0], centroids[:, 1], s = 300, c = 'yellow', label = 'Centroids')\n",
        "plt.title('Clusters of Merchants')\n",
        "plt.xlabel('Annual Income ')\n",
        "plt.ylabel('Spending Score')\n",
        "# plt.legend()\n",
        "plt.legend(bbox_to_anchor=(1.02, 1), loc='upper left', borderaxespad=0)\n",
        "plt.show()"
      ],
      "metadata": {
        "colab": {
          "base_uri": "https://localhost:8080/",
          "height": 564
        },
        "id": "F9tJ8SejCHS6",
        "outputId": "0c08085f-3ecb-46e4-84c7-aa7ea5d6a0f2"
      },
      "execution_count": 278,
      "outputs": [
        {
          "output_type": "display_data",
          "data": {
            "text/plain": [
              "<Figure size 1000x600 with 1 Axes>"
            ],
            "image/png": "[encoded data removed]"
          },
          "metadata": {}
        }
      ]
    },
    {
      "cell_type": "code",
      "source": [
        "df.loc[:,\"Cluster_Number\"] = y_kmeans"
      ],
      "metadata": {
        "id": "sYOVcXb6CRAD"
      },
      "execution_count": 279,
      "outputs": []
    },
    {
      "cell_type": "code",
      "source": [
        "Cluster_Nature = []\n",
        "\n",
        "for row in df['Cluster_Number']:\n",
        "    if row == 0:\n",
        "        Cluster_Nature.append('General')\n",
        "    elif row == 1:\n",
        "        Cluster_Nature.append('Miser') # Miser is the one who hoards wealth and spends a little money\n",
        "    elif row == 2: Cluster_Nature.append('Careful')\n",
        "    elif row == 3: Cluster_Nature.append('Spendthrift') # spendthrift is the one who spends money in an extravagant\n",
        "    elif row == 4:  Cluster_Nature.append('Target')\n",
        "    else: Cluster_Nature.append('Outlier')\n",
        "\n",
        "df['Cluster_Nature'] = Cluster_Nature\n"
      ],
      "metadata": {
        "id": "ObsPRWWjCUDq"
      },
      "execution_count": 280,
      "outputs": []
    },
    {
      "cell_type": "markdown",
      "source": [
        "**Miser:-** Person who loves to have a lot of money but hates to spend it\n",
        "\n",
        "**Spendthirft:-** A person who spends a lot of money carelessly or wastes money"
      ],
      "metadata": {
        "id": "V12lQxjjXeQW"
      }
    },
    {
      "cell_type": "code",
      "source": [
        "df.info()"
      ],
      "metadata": {
        "colab": {
          "base_uri": "https://localhost:8080/"
        },
        "id": "8gISrZ7JCZPy",
        "outputId": "c9fd0f54-80b5-4075-a7b9-8ce6674e0ec0"
      },
      "execution_count": 281,
      "outputs": [
        {
          "output_type": "stream",
          "name": "stdout",
          "text": [
            "<class 'pandas.core.frame.DataFrame'>\n",
            "RangeIndex: 200 entries, 0 to 199\n",
            "Data columns (total 7 columns):\n",
            " #   Column                  Non-Null Count  Dtype \n",
            "---  ------                  --------------  ----- \n",
            " 0   Merchant Id             200 non-null    int64 \n",
            " 1   Annual_Revenue          200 non-null    int64 \n",
            " 2   Spending_Score          200 non-null    int64 \n",
            " 3   City                    200 non-null    object\n",
            " 4   Most_Purchased_Product  200 non-null    object\n",
            " 5   Cluster_Number          200 non-null    int64 \n",
            " 6   Cluster_Nature          200 non-null    object\n",
            "dtypes: int64(4), object(3)\n",
            "memory usage: 11.1+ KB\n"
          ]
        }
      ]
    },
    {
      "cell_type": "code",
      "source": [
        "df.head()"
      ],
      "metadata": {
        "colab": {
          "base_uri": "https://localhost:8080/",
          "height": 206
        },
        "id": "YJH7E1v2Cbun",
        "outputId": "9f42a04a-7781-4af4-89df-f33f284f6ed2"
      },
      "execution_count": 282,
      "outputs": [
        {
          "output_type": "execute_result",
          "data": {
            "text/plain": [
              "   Merchant Id  Annual_Revenue  Spending_Score           City  \\\n",
              "0            1              15              39         Mtwara   \n",
              "1            2              15              81  Zanzibar City   \n",
              "2            3              16               6         Mtwara   \n",
              "3            4              16              77  Zanzibar City   \n",
              "4            5              17              40         Mtwara   \n",
              "\n",
              "  Most_Purchased_Product  Cluster_Number Cluster_Nature  \n",
              "0           Mtindi 500ml               2        Careful  \n",
              "1       Fresh Milk 250ml               3    Spendthrift  \n",
              "2           Mtindi 500ml               2        Careful  \n",
              "3       Fresh Milk 250ml               3    Spendthrift  \n",
              "4           Mtindi 500ml               2        Careful  "
            ],
            "text/html": [
              "\n",
              "  <div id=\"df-14e1438b-4c54-4502-b94b-f590ec4bc093\" class=\"colab-df-container\">\n",
              "    <div>\n",
              "<style scoped>\n",
              "    .dataframe tbody tr th:only-of-type {\n",
              "        vertical-align: middle;\n",
              "    }\n",
              "\n",
              "    .dataframe tbody tr th {\n",
              "        vertical-align: top;\n",
              "    }\n",
              "\n",
              "    .dataframe thead th {\n",
              "        text-align: right;\n",
              "    }\n",
              "</style>\n",
              "<table border=\"1\" class=\"dataframe\">\n",
              "  <thead>\n",
              "    <tr style=\"text-align: right;\">\n",
              "      <th></th>\n",
              "      <th>Merchant Id</th>\n",
              "      <th>Annual_Revenue</th>\n",
              "      <th>Spending_Score</th>\n",
              "      <th>City</th>\n",
              "      <th>Most_Purchased_Product</th>\n",
              "      <th>Cluster_Number</th>\n",
              "      <th>Cluster_Nature</th>\n",
              "    </tr>\n",
              "  </thead>\n",
              "  <tbody>\n",
              "    <tr>\n",
              "      <th>0</th>\n",
              "      <td>1</td>\n",
              "      <td>15</td>\n",
              "      <td>39</td>\n",
              "      <td>Mtwara</td>\n",
              "      <td>Mtindi 500ml</td>\n",
              "      <td>2</td>\n",
              "      <td>Careful</td>\n",
              "    </tr>\n",
              "    <tr>\n",
              "      <th>1</th>\n",
              "      <td>2</td>\n",
              "      <td>15</td>\n",
              "      <td>81</td>\n",
              "      <td>Zanzibar City</td>\n",
              "      <td>Fresh Milk 250ml</td>\n",
              "      <td>3</td>\n",
              "      <td>Spendthrift</td>\n",
              "    </tr>\n",
              "    <tr>\n",
              "      <th>2</th>\n",
              "      <td>3</td>\n",
              "      <td>16</td>\n",
              "      <td>6</td>\n",
              "      <td>Mtwara</td>\n",
              "      <td>Mtindi 500ml</td>\n",
              "      <td>2</td>\n",
              "      <td>Careful</td>\n",
              "    </tr>\n",
              "    <tr>\n",
              "      <th>3</th>\n",
              "      <td>4</td>\n",
              "      <td>16</td>\n",
              "      <td>77</td>\n",
              "      <td>Zanzibar City</td>\n",
              "      <td>Fresh Milk 250ml</td>\n",
              "      <td>3</td>\n",
              "      <td>Spendthrift</td>\n",
              "    </tr>\n",
              "    <tr>\n",
              "      <th>4</th>\n",
              "      <td>5</td>\n",
              "      <td>17</td>\n",
              "      <td>40</td>\n",
              "      <td>Mtwara</td>\n",
              "      <td>Mtindi 500ml</td>\n",
              "      <td>2</td>\n",
              "      <td>Careful</td>\n",
              "    </tr>\n",
              "  </tbody>\n",
              "</table>\n",
              "</div>\n",
              "    <div class=\"colab-df-buttons\">\n",
              "\n",
              "  <div class=\"colab-df-container\">\n",
              "    <button class=\"colab-df-convert\" onclick=\"convertToInteractive('df-14e1438b-4c54-4502-b94b-f590ec4bc093')\"\n",
              "            title=\"Convert this dataframe to an interactive table.\"\n",
              "            style=\"display:none;\">\n",
              "\n",
              "  <svg xmlns=\"http://www.w3.org/2000/svg\" height=\"24px\" viewBox=\"0 -960 960 960\">\n",
              "    <path d=\"M120-120v-720h720v720H120Zm60-500h600v-160H180v160Zm220 220h160v-160H400v160Zm0 220h160v-160H400v160ZM180-400h160v-160H180v160Zm440 0h160v-160H620v160ZM180-180h160v-160H180v160Zm440 0h160v-160H620v160Z\"/>\n",
              "  </svg>\n",
              "    </button>\n",
              "\n",
              "  <style>\n",
              "    .colab-df-container {\n",
              "      display:flex;\n",
              "      gap: 12px;\n",
              "    }\n",
              "\n",
              "    .colab-df-convert {\n",
              "      background-color: #E8F0FE;\n",
              "      border: none;\n",
              "      border-radius: 50%;\n",
              "      cursor: pointer;\n",
              "      display: none;\n",
              "      fill: #1967D2;\n",
              "      height: 32px;\n",
              "      padding: 0 0 0 0;\n",
              "      width: 32px;\n",
              "    }\n",
              "\n",
              "    .colab-df-convert:hover {\n",
              "      background-color: #E2EBFA;\n",
              "      box-shadow: 0px 1px 2px rgba(60, 64, 67, 0.3), 0px 1px 3px 1px rgba(60, 64, 67, 0.15);\n",
              "      fill: #174EA6;\n",
              "    }\n",
              "\n",
              "    .colab-df-buttons div {\n",
              "      margin-bottom: 4px;\n",
              "    }\n",
              "\n",
              "    [theme=dark] .colab-df-convert {\n",
              "      background-color: #3B4455;\n",
              "      fill: #D2E3FC;\n",
              "    }\n",
              "\n",
              "    [theme=dark] .colab-df-convert:hover {\n",
              "      background-color: #434B5C;\n",
              "      box-shadow: 0px 1px 3px 1px rgba(0, 0, 0, 0.15);\n",
              "      filter: drop-shadow(0px 1px 2px rgba(0, 0, 0, 0.3));\n",
              "      fill: #FFFFFF;\n",
              "    }\n",
              "  </style>\n",
              "\n",
              "    <script>\n",
              "      const buttonEl =\n",
              "        document.querySelector('#df-14e1438b-4c54-4502-b94b-f590ec4bc093 button.colab-df-convert');\n",
              "      buttonEl.style.display =\n",
              "        google.colab.kernel.accessAllowed ? 'block' : 'none';\n",
              "\n",
              "      async function convertToInteractive(key) {\n",
              "        const element = document.querySelector('#df-14e1438b-4c54-4502-b94b-f590ec4bc093');\n",
              "        const dataTable =\n",
              "          await google.colab.kernel.invokeFunction('convertToInteractive',\n",
              "                                                    [key], {});\n",
              "        if (!dataTable) return;\n",
              "\n",
              "        const docLinkHtml = 'Like what you see? Visit the ' +\n",
              "          '<a target=\"_blank\" href=https://colab.research.google.com/notebooks/data_table.ipynb>data table notebook</a>'\n",
              "          + ' to learn more about interactive tables.';\n",
              "        element.innerHTML = '';\n",
              "        dataTable['output_type'] = 'display_data';\n",
              "        await google.colab.output.renderOutput(dataTable, element);\n",
              "        const docLink = document.createElement('div');\n",
              "        docLink.innerHTML = docLinkHtml;\n",
              "        element.appendChild(docLink);\n",
              "      }\n",
              "    </script>\n",
              "  </div>\n",
              "\n",
              "\n",
              "<div id=\"df-ea481619-b59d-4a4b-a65b-e96bfeea41d9\">\n",
              "  <button class=\"colab-df-quickchart\" onclick=\"quickchart('df-ea481619-b59d-4a4b-a65b-e96bfeea41d9')\"\n",
              "            title=\"Suggest charts\"\n",
              "            style=\"display:none;\">\n",
              "\n",
              "<svg xmlns=\"http://www.w3.org/2000/svg\" height=\"24px\"viewBox=\"0 0 24 24\"\n",
              "     width=\"24px\">\n",
              "    <g>\n",
              "        <path d=\"M19 3H5c-1.1 0-2 .9-2 2v14c0 1.1.9 2 2 2h14c1.1 0 2-.9 2-2V5c0-1.1-.9-2-2-2zM9 17H7v-7h2v7zm4 0h-2V7h2v10zm4 0h-2v-4h2v4z\"/>\n",
              "    </g>\n",
              "</svg>\n",
              "  </button>\n",
              "\n",
              "<style>\n",
              "  .colab-df-quickchart {\n",
              "      --bg-color: #E8F0FE;\n",
              "      --fill-color: #1967D2;\n",
              "      --hover-bg-color: #E2EBFA;\n",
              "      --hover-fill-color: #174EA6;\n",
              "      --disabled-fill-color: #AAA;\n",
              "      --disabled-bg-color: #DDD;\n",
              "  }\n",
              "\n",
              "  [theme=dark] .colab-df-quickchart {\n",
              "      --bg-color: #3B4455;\n",
              "      --fill-color: #D2E3FC;\n",
              "      --hover-bg-color: #434B5C;\n",
              "      --hover-fill-color: #FFFFFF;\n",
              "      --disabled-bg-color: #3B4455;\n",
              "      --disabled-fill-color: #666;\n",
              "  }\n",
              "\n",
              "  .colab-df-quickchart {\n",
              "    background-color: var(--bg-color);\n",
              "    border: none;\n",
              "    border-radius: 50%;\n",
              "    cursor: pointer;\n",
              "    display: none;\n",
              "    fill: var(--fill-color);\n",
              "    height: 32px;\n",
              "    padding: 0;\n",
              "    width: 32px;\n",
              "  }\n",
              "\n",
              "  .colab-df-quickchart:hover {\n",
              "    background-color: var(--hover-bg-color);\n",
              "    box-shadow: 0 1px 2px rgba(60, 64, 67, 0.3), 0 1px 3px 1px rgba(60, 64, 67, 0.15);\n",
              "    fill: var(--button-hover-fill-color);\n",
              "  }\n",
              "\n",
              "  .colab-df-quickchart-complete:disabled,\n",
              "  .colab-df-quickchart-complete:disabled:hover {\n",
              "    background-color: var(--disabled-bg-color);\n",
              "    fill: var(--disabled-fill-color);\n",
              "    box-shadow: none;\n",
              "  }\n",
              "\n",
              "  .colab-df-spinner {\n",
              "    border: 2px solid var(--fill-color);\n",
              "    border-color: transparent;\n",
              "    border-bottom-color: var(--fill-color);\n",
              "    animation:\n",
              "      spin 1s steps(1) infinite;\n",
              "  }\n",
              "\n",
              "  @keyframes spin {\n",
              "    0% {\n",
              "      border-color: transparent;\n",
              "      border-bottom-color: var(--fill-color);\n",
              "      border-left-color: var(--fill-color);\n",
              "    }\n",
              "    20% {\n",
              "      border-color: transparent;\n",
              "      border-left-color: var(--fill-color);\n",
              "      border-top-color: var(--fill-color);\n",
              "    }\n",
              "    30% {\n",
              "      border-color: transparent;\n",
              "      border-left-color: var(--fill-color);\n",
              "      border-top-color: var(--fill-color);\n",
              "      border-right-color: var(--fill-color);\n",
              "    }\n",
              "    40% {\n",
              "      border-color: transparent;\n",
              "      border-right-color: var(--fill-color);\n",
              "      border-top-color: var(--fill-color);\n",
              "    }\n",
              "    60% {\n",
              "      border-color: transparent;\n",
              "      border-right-color: var(--fill-color);\n",
              "    }\n",
              "    80% {\n",
              "      border-color: transparent;\n",
              "      border-right-color: var(--fill-color);\n",
              "      border-bottom-color: var(--fill-color);\n",
              "    }\n",
              "    90% {\n",
              "      border-color: transparent;\n",
              "      border-bottom-color: var(--fill-color);\n",
              "    }\n",
              "  }\n",
              "</style>\n",
              "\n",
              "  <script>\n",
              "    async function quickchart(key) {\n",
              "      const quickchartButtonEl =\n",
              "        document.querySelector('#' + key + ' button');\n",
              "      quickchartButtonEl.disabled = true;  // To prevent multiple clicks.\n",
              "      quickchartButtonEl.classList.add('colab-df-spinner');\n",
              "      try {\n",
              "        const charts = await google.colab.kernel.invokeFunction(\n",
              "            'suggestCharts', [key], {});\n",
              "      } catch (error) {\n",
              "        console.error('Error during call to suggestCharts:', error);\n",
              "      }\n",
              "      quickchartButtonEl.classList.remove('colab-df-spinner');\n",
              "      quickchartButtonEl.classList.add('colab-df-quickchart-complete');\n",
              "    }\n",
              "    (() => {\n",
              "      let quickchartButtonEl =\n",
              "        document.querySelector('#df-ea481619-b59d-4a4b-a65b-e96bfeea41d9 button');\n",
              "      quickchartButtonEl.style.display =\n",
              "        google.colab.kernel.accessAllowed ? 'block' : 'none';\n",
              "    })();\n",
              "  </script>\n",
              "</div>\n",
              "\n",
              "    </div>\n",
              "  </div>\n"
            ],
            "application/vnd.google.colaboratory.intrinsic+json": {
              "type": "dataframe",
              "variable_name": "df",
              "summary": "{\n  \"name\": \"df\",\n  \"rows\": 200,\n  \"fields\": [\n    {\n      \"column\": \"Merchant Id\",\n      \"properties\": {\n        \"dtype\": \"number\",\n        \"std\": 57,\n        \"min\": 1,\n        \"max\": 200,\n        \"num_unique_values\": 200,\n        \"samples\": [\n          96,\n          16,\n          31\n        ],\n        \"semantic_type\": \"\",\n        \"description\": \"\"\n      }\n    },\n    {\n      \"column\": \"Annual_Revenue\",\n      \"properties\": {\n        \"dtype\": \"number\",\n        \"std\": 26,\n        \"min\": 15,\n        \"max\": 137,\n        \"num_unique_values\": 64,\n        \"samples\": [\n          87,\n          101,\n          15\n        ],\n        \"semantic_type\": \"\",\n        \"description\": \"\"\n      }\n    },\n    {\n      \"column\": \"Spending_Score\",\n      \"properties\": {\n        \"dtype\": \"number\",\n        \"std\": 25,\n        \"min\": 1,\n        \"max\": 99,\n        \"num_unique_values\": 84,\n        \"samples\": [\n          83,\n          39,\n          71\n        ],\n        \"semantic_type\": \"\",\n        \"description\": \"\"\n      }\n    },\n    {\n      \"column\": \"City\",\n      \"properties\": {\n        \"dtype\": \"category\",\n        \"num_unique_values\": 4,\n        \"samples\": [\n          \"Zanzibar City\",\n          \"Dar es Salaam\",\n          \"Mtwara\"\n        ],\n        \"semantic_type\": \"\",\n        \"description\": \"\"\n      }\n    },\n    {\n      \"column\": \"Most_Purchased_Product\",\n      \"properties\": {\n        \"dtype\": \"category\",\n        \"num_unique_values\": 4,\n        \"samples\": [\n          \"Fresh Milk 250ml\",\n          \"Mtindi 250ml\",\n          \"Mtindi 500ml\"\n        ],\n        \"semantic_type\": \"\",\n        \"description\": \"\"\n      }\n    },\n    {\n      \"column\": \"Cluster_Number\",\n      \"properties\": {\n        \"dtype\": \"number\",\n        \"std\": 1,\n        \"min\": 0,\n        \"max\": 4,\n        \"num_unique_values\": 5,\n        \"samples\": [\n          3,\n          1,\n          0\n        ],\n        \"semantic_type\": \"\",\n        \"description\": \"\"\n      }\n    },\n    {\n      \"column\": \"Cluster_Nature\",\n      \"properties\": {\n        \"dtype\": \"category\",\n        \"num_unique_values\": 5,\n        \"samples\": [\n          \"Spendthrift\",\n          \"Miser\",\n          \"General\"\n        ],\n        \"semantic_type\": \"\",\n        \"description\": \"\"\n      }\n    }\n  ]\n}"
            }
          },
          "metadata": {},
          "execution_count": 282
        }
      ]
    },
    {
      "cell_type": "code",
      "source": [
        "df['Cluster_Nature'].value_counts()"
      ],
      "metadata": {
        "colab": {
          "base_uri": "https://localhost:8080/"
        },
        "id": "l3UVbXJYCfKC",
        "outputId": "8ddd47a6-e2b5-4c9c-ec76-50284a4ad60b"
      },
      "execution_count": 283,
      "outputs": [
        {
          "output_type": "execute_result",
          "data": {
            "text/plain": [
              "Cluster_Nature\n",
              "General        81\n",
              "Target         39\n",
              "Miser          35\n",
              "Careful        23\n",
              "Spendthrift    22\n",
              "Name: count, dtype: int64"
            ]
          },
          "metadata": {},
          "execution_count": 283
        }
      ]
    },
    {
      "cell_type": "code",
      "source": [
        "uniqueValues = df['Cluster_Nature'].unique()\n",
        "print(uniqueValues)"
      ],
      "metadata": {
        "colab": {
          "base_uri": "https://localhost:8080/"
        },
        "id": "svCriCbMCrKw",
        "outputId": "c8f3af84-3084-4490-8b6b-a2b8fcc4090b"
      },
      "execution_count": 284,
      "outputs": [
        {
          "output_type": "stream",
          "name": "stdout",
          "text": [
            "['Careful' 'Spendthrift' 'General' 'Target' 'Miser']\n"
          ]
        }
      ]
    },
    {
      "cell_type": "code",
      "source": [
        "target_df = df.loc[df['Cluster_Nature'] == 'Target']"
      ],
      "metadata": {
        "id": "rC6LovqyCuzF"
      },
      "execution_count": 285,
      "outputs": []
    },
    {
      "cell_type": "code",
      "source": [
        "target_df.head()"
      ],
      "metadata": {
        "colab": {
          "base_uri": "https://localhost:8080/",
          "height": 206
        },
        "id": "pohaoWi3CyPC",
        "outputId": "5866702d-0e14-43e6-de05-b4da5c88b04f"
      },
      "execution_count": 286,
      "outputs": [
        {
          "output_type": "execute_result",
          "data": {
            "text/plain": [
              "     Merchant Id  Annual_Revenue  Spending_Score           City  \\\n",
              "123          124              69              91  Dar es Salaam   \n",
              "125          126              70              77  Dar es Salaam   \n",
              "127          128              71              95  Dar es Salaam   \n",
              "129          130              71              75  Dar es Salaam   \n",
              "131          132              71              75  Dar es Salaam   \n",
              "\n",
              "    Most_Purchased_Product  Cluster_Number Cluster_Nature  \n",
              "123           Mtindi 250ml               4         Target  \n",
              "125           Mtindi 250ml               4         Target  \n",
              "127           Mtindi 250ml               4         Target  \n",
              "129           Mtindi 250ml               4         Target  \n",
              "131           Mtindi 250ml               4         Target  "
            ],
            "text/html": [
              "\n",
              "  <div id=\"df-195eb43c-9099-4908-b712-44949b85d08b\" class=\"colab-df-container\">\n",
              "    <div>\n",
              "<style scoped>\n",
              "    .dataframe tbody tr th:only-of-type {\n",
              "        vertical-align: middle;\n",
              "    }\n",
              "\n",
              "    .dataframe tbody tr th {\n",
              "        vertical-align: top;\n",
              "    }\n",
              "\n",
              "    .dataframe thead th {\n",
              "        text-align: right;\n",
              "    }\n",
              "</style>\n",
              "<table border=\"1\" class=\"dataframe\">\n",
              "  <thead>\n",
              "    <tr style=\"text-align: right;\">\n",
              "      <th></th>\n",
              "      <th>Merchant Id</th>\n",
              "      <th>Annual_Revenue</th>\n",
              "      <th>Spending_Score</th>\n",
              "      <th>City</th>\n",
              "      <th>Most_Purchased_Product</th>\n",
              "      <th>Cluster_Number</th>\n",
              "      <th>Cluster_Nature</th>\n",
              "    </tr>\n",
              "  </thead>\n",
              "  <tbody>\n",
              "    <tr>\n",
              "      <th>123</th>\n",
              "      <td>124</td>\n",
              "      <td>69</td>\n",
              "      <td>91</td>\n",
              "      <td>Dar es Salaam</td>\n",
              "      <td>Mtindi 250ml</td>\n",
              "      <td>4</td>\n",
              "      <td>Target</td>\n",
              "    </tr>\n",
              "    <tr>\n",
              "      <th>125</th>\n",
              "      <td>126</td>\n",
              "      <td>70</td>\n",
              "      <td>77</td>\n",
              "      <td>Dar es Salaam</td>\n",
              "      <td>Mtindi 250ml</td>\n",
              "      <td>4</td>\n",
              "      <td>Target</td>\n",
              "    </tr>\n",
              "    <tr>\n",
              "      <th>127</th>\n",
              "      <td>128</td>\n",
              "      <td>71</td>\n",
              "      <td>95</td>\n",
              "      <td>Dar es Salaam</td>\n",
              "      <td>Mtindi 250ml</td>\n",
              "      <td>4</td>\n",
              "      <td>Target</td>\n",
              "    </tr>\n",
              "    <tr>\n",
              "      <th>129</th>\n",
              "      <td>130</td>\n",
              "      <td>71</td>\n",
              "      <td>75</td>\n",
              "      <td>Dar es Salaam</td>\n",
              "      <td>Mtindi 250ml</td>\n",
              "      <td>4</td>\n",
              "      <td>Target</td>\n",
              "    </tr>\n",
              "    <tr>\n",
              "      <th>131</th>\n",
              "      <td>132</td>\n",
              "      <td>71</td>\n",
              "      <td>75</td>\n",
              "      <td>Dar es Salaam</td>\n",
              "      <td>Mtindi 250ml</td>\n",
              "      <td>4</td>\n",
              "      <td>Target</td>\n",
              "    </tr>\n",
              "  </tbody>\n",
              "</table>\n",
              "</div>\n",
              "    <div class=\"colab-df-buttons\">\n",
              "\n",
              "  <div class=\"colab-df-container\">\n",
              "    <button class=\"colab-df-convert\" onclick=\"convertToInteractive('df-195eb43c-9099-4908-b712-44949b85d08b')\"\n",
              "            title=\"Convert this dataframe to an interactive table.\"\n",
              "            style=\"display:none;\">\n",
              "\n",
              "  <svg xmlns=\"http://www.w3.org/2000/svg\" height=\"24px\" viewBox=\"0 -960 960 960\">\n",
              "    <path d=\"M120-120v-720h720v720H120Zm60-500h600v-160H180v160Zm220 220h160v-160H400v160Zm0 220h160v-160H400v160ZM180-400h160v-160H180v160Zm440 0h160v-160H620v160ZM180-180h160v-160H180v160Zm440 0h160v-160H620v160Z\"/>\n",
              "  </svg>\n",
              "    </button>\n",
              "\n",
              "  <style>\n",
              "    .colab-df-container {\n",
              "      display:flex;\n",
              "      gap: 12px;\n",
              "    }\n",
              "\n",
              "    .colab-df-convert {\n",
              "      background-color: #E8F0FE;\n",
              "      border: none;\n",
              "      border-radius: 50%;\n",
              "      cursor: pointer;\n",
              "      display: none;\n",
              "      fill: #1967D2;\n",
              "      height: 32px;\n",
              "      padding: 0 0 0 0;\n",
              "      width: 32px;\n",
              "    }\n",
              "\n",
              "    .colab-df-convert:hover {\n",
              "      background-color: #E2EBFA;\n",
              "      box-shadow: 0px 1px 2px rgba(60, 64, 67, 0.3), 0px 1px 3px 1px rgba(60, 64, 67, 0.15);\n",
              "      fill: #174EA6;\n",
              "    }\n",
              "\n",
              "    .colab-df-buttons div {\n",
              "      margin-bottom: 4px;\n",
              "    }\n",
              "\n",
              "    [theme=dark] .colab-df-convert {\n",
              "      background-color: #3B4455;\n",
              "      fill: #D2E3FC;\n",
              "    }\n",
              "\n",
              "    [theme=dark] .colab-df-convert:hover {\n",
              "      background-color: #434B5C;\n",
              "      box-shadow: 0px 1px 3px 1px rgba(0, 0, 0, 0.15);\n",
              "      filter: drop-shadow(0px 1px 2px rgba(0, 0, 0, 0.3));\n",
              "      fill: #FFFFFF;\n",
              "    }\n",
              "  </style>\n",
              "\n",
              "    <script>\n",
              "      const buttonEl =\n",
              "        document.querySelector('#df-195eb43c-9099-4908-b712-44949b85d08b button.colab-df-convert');\n",
              "      buttonEl.style.display =\n",
              "        google.colab.kernel.accessAllowed ? 'block' : 'none';\n",
              "\n",
              "      async function convertToInteractive(key) {\n",
              "        const element = document.querySelector('#df-195eb43c-9099-4908-b712-44949b85d08b');\n",
              "        const dataTable =\n",
              "          await google.colab.kernel.invokeFunction('convertToInteractive',\n",
              "                                                    [key], {});\n",
              "        if (!dataTable) return;\n",
              "\n",
              "        const docLinkHtml = 'Like what you see? Visit the ' +\n",
              "          '<a target=\"_blank\" href=https://colab.research.google.com/notebooks/data_table.ipynb>data table notebook</a>'\n",
              "          + ' to learn more about interactive tables.';\n",
              "        element.innerHTML = '';\n",
              "        dataTable['output_type'] = 'display_data';\n",
              "        await google.colab.output.renderOutput(dataTable, element);\n",
              "        const docLink = document.createElement('div');\n",
              "        docLink.innerHTML = docLinkHtml;\n",
              "        element.appendChild(docLink);\n",
              "      }\n",
              "    </script>\n",
              "  </div>\n",
              "\n",
              "\n",
              "<div id=\"df-fbf85b1c-544b-452d-be2c-5c866cedfc84\">\n",
              "  <button class=\"colab-df-quickchart\" onclick=\"quickchart('df-fbf85b1c-544b-452d-be2c-5c866cedfc84')\"\n",
              "            title=\"Suggest charts\"\n",
              "            style=\"display:none;\">\n",
              "\n",
              "<svg xmlns=\"http://www.w3.org/2000/svg\" height=\"24px\"viewBox=\"0 0 24 24\"\n",
              "     width=\"24px\">\n",
              "    <g>\n",
              "        <path d=\"M19 3H5c-1.1 0-2 .9-2 2v14c0 1.1.9 2 2 2h14c1.1 0 2-.9 2-2V5c0-1.1-.9-2-2-2zM9 17H7v-7h2v7zm4 0h-2V7h2v10zm4 0h-2v-4h2v4z\"/>\n",
              "    </g>\n",
              "</svg>\n",
              "  </button>\n",
              "\n",
              "<style>\n",
              "  .colab-df-quickchart {\n",
              "      --bg-color: #E8F0FE;\n",
              "      --fill-color: #1967D2;\n",
              "      --hover-bg-color: #E2EBFA;\n",
              "      --hover-fill-color: #174EA6;\n",
              "      --disabled-fill-color: #AAA;\n",
              "      --disabled-bg-color: #DDD;\n",
              "  }\n",
              "\n",
              "  [theme=dark] .colab-df-quickchart {\n",
              "      --bg-color: #3B4455;\n",
              "      --fill-color: #D2E3FC;\n",
              "      --hover-bg-color: #434B5C;\n",
              "      --hover-fill-color: #FFFFFF;\n",
              "      --disabled-bg-color: #3B4455;\n",
              "      --disabled-fill-color: #666;\n",
              "  }\n",
              "\n",
              "  .colab-df-quickchart {\n",
              "    background-color: var(--bg-color);\n",
              "    border: none;\n",
              "    border-radius: 50%;\n",
              "    cursor: pointer;\n",
              "    display: none;\n",
              "    fill: var(--fill-color);\n",
              "    height: 32px;\n",
              "    padding: 0;\n",
              "    width: 32px;\n",
              "  }\n",
              "\n",
              "  .colab-df-quickchart:hover {\n",
              "    background-color: var(--hover-bg-color);\n",
              "    box-shadow: 0 1px 2px rgba(60, 64, 67, 0.3), 0 1px 3px 1px rgba(60, 64, 67, 0.15);\n",
              "    fill: var(--button-hover-fill-color);\n",
              "  }\n",
              "\n",
              "  .colab-df-quickchart-complete:disabled,\n",
              "  .colab-df-quickchart-complete:disabled:hover {\n",
              "    background-color: var(--disabled-bg-color);\n",
              "    fill: var(--disabled-fill-color);\n",
              "    box-shadow: none;\n",
              "  }\n",
              "\n",
              "  .colab-df-spinner {\n",
              "    border: 2px solid var(--fill-color);\n",
              "    border-color: transparent;\n",
              "    border-bottom-color: var(--fill-color);\n",
              "    animation:\n",
              "      spin 1s steps(1) infinite;\n",
              "  }\n",
              "\n",
              "  @keyframes spin {\n",
              "    0% {\n",
              "      border-color: transparent;\n",
              "      border-bottom-color: var(--fill-color);\n",
              "      border-left-color: var(--fill-color);\n",
              "    }\n",
              "    20% {\n",
              "      border-color: transparent;\n",
              "      border-left-color: var(--fill-color);\n",
              "      border-top-color: var(--fill-color);\n",
              "    }\n",
              "    30% {\n",
              "      border-color: transparent;\n",
              "      border-left-color: var(--fill-color);\n",
              "      border-top-color: var(--fill-color);\n",
              "      border-right-color: var(--fill-color);\n",
              "    }\n",
              "    40% {\n",
              "      border-color: transparent;\n",
              "      border-right-color: var(--fill-color);\n",
              "      border-top-color: var(--fill-color);\n",
              "    }\n",
              "    60% {\n",
              "      border-color: transparent;\n",
              "      border-right-color: var(--fill-color);\n",
              "    }\n",
              "    80% {\n",
              "      border-color: transparent;\n",
              "      border-right-color: var(--fill-color);\n",
              "      border-bottom-color: var(--fill-color);\n",
              "    }\n",
              "    90% {\n",
              "      border-color: transparent;\n",
              "      border-bottom-color: var(--fill-color);\n",
              "    }\n",
              "  }\n",
              "</style>\n",
              "\n",
              "  <script>\n",
              "    async function quickchart(key) {\n",
              "      const quickchartButtonEl =\n",
              "        document.querySelector('#' + key + ' button');\n",
              "      quickchartButtonEl.disabled = true;  // To prevent multiple clicks.\n",
              "      quickchartButtonEl.classList.add('colab-df-spinner');\n",
              "      try {\n",
              "        const charts = await google.colab.kernel.invokeFunction(\n",
              "            'suggestCharts', [key], {});\n",
              "      } catch (error) {\n",
              "        console.error('Error during call to suggestCharts:', error);\n",
              "      }\n",
              "      quickchartButtonEl.classList.remove('colab-df-spinner');\n",
              "      quickchartButtonEl.classList.add('colab-df-quickchart-complete');\n",
              "    }\n",
              "    (() => {\n",
              "      let quickchartButtonEl =\n",
              "        document.querySelector('#df-fbf85b1c-544b-452d-be2c-5c866cedfc84 button');\n",
              "      quickchartButtonEl.style.display =\n",
              "        google.colab.kernel.accessAllowed ? 'block' : 'none';\n",
              "    })();\n",
              "  </script>\n",
              "</div>\n",
              "\n",
              "    </div>\n",
              "  </div>\n"
            ],
            "application/vnd.google.colaboratory.intrinsic+json": {
              "type": "dataframe",
              "variable_name": "target_df",
              "summary": "{\n  \"name\": \"target_df\",\n  \"rows\": 39,\n  \"fields\": [\n    {\n      \"column\": \"Merchant Id\",\n      \"properties\": {\n        \"dtype\": \"number\",\n        \"std\": 22,\n        \"min\": 124,\n        \"max\": 200,\n        \"num_unique_values\": 39,\n        \"samples\": [\n          190,\n          196,\n          132\n        ],\n        \"semantic_type\": \"\",\n        \"description\": \"\"\n      }\n    },\n    {\n      \"column\": \"Annual_Revenue\",\n      \"properties\": {\n        \"dtype\": \"number\",\n        \"std\": 16,\n        \"min\": 69,\n        \"max\": 137,\n        \"num_unique_values\": 26,\n        \"samples\": [\n          77,\n          93,\n          69\n        ],\n        \"semantic_type\": \"\",\n        \"description\": \"\"\n      }\n    },\n    {\n      \"column\": \"Spending_Score\",\n      \"properties\": {\n        \"dtype\": \"number\",\n        \"std\": 9,\n        \"min\": 63,\n        \"max\": 97,\n        \"num_unique_values\": 24,\n        \"samples\": [\n          93,\n          83,\n          91\n        ],\n        \"semantic_type\": \"\",\n        \"description\": \"\"\n      }\n    },\n    {\n      \"column\": \"City\",\n      \"properties\": {\n        \"dtype\": \"category\",\n        \"num_unique_values\": 1,\n        \"samples\": [\n          \"Dar es Salaam\"\n        ],\n        \"semantic_type\": \"\",\n        \"description\": \"\"\n      }\n    },\n    {\n      \"column\": \"Most_Purchased_Product\",\n      \"properties\": {\n        \"dtype\": \"category\",\n        \"num_unique_values\": 1,\n        \"samples\": [\n          \"Mtindi 250ml\"\n        ],\n        \"semantic_type\": \"\",\n        \"description\": \"\"\n      }\n    },\n    {\n      \"column\": \"Cluster_Number\",\n      \"properties\": {\n        \"dtype\": \"number\",\n        \"std\": 0,\n        \"min\": 4,\n        \"max\": 4,\n        \"num_unique_values\": 1,\n        \"samples\": [\n          4\n        ],\n        \"semantic_type\": \"\",\n        \"description\": \"\"\n      }\n    },\n    {\n      \"column\": \"Cluster_Nature\",\n      \"properties\": {\n        \"dtype\": \"category\",\n        \"num_unique_values\": 1,\n        \"samples\": [\n          \"Target\"\n        ],\n        \"semantic_type\": \"\",\n        \"description\": \"\"\n      }\n    }\n  ]\n}"
            }
          },
          "metadata": {},
          "execution_count": 286
        }
      ]
    },
    {
      "cell_type": "code",
      "source": [
        "# Define the ratio of gap of each fragment in a tuple\n",
        "explode = (0.05, 0.05, 0.05,0.05)\n",
        "\n",
        "# Plotting the pie chart for above dataframe\n",
        "df.groupby(['City']).sum().plot(\n",
        "    kind='pie', y='Spending_Score', autopct='%1.0f%%', explode=explode, legend = False,ylabel='')"
      ],
      "metadata": {
        "colab": {
          "base_uri": "https://localhost:8080/",
          "height": 423
        },
        "id": "7zaSQghDC0tN",
        "outputId": "cafeba07-3507-44cc-f03c-464986b50c78"
      },
      "execution_count": 287,
      "outputs": [
        {
          "output_type": "execute_result",
          "data": {
            "text/plain": [
              "<Axes: >"
            ]
          },
          "metadata": {},
          "execution_count": 287
        },
        {
          "output_type": "display_data",
          "data": {
            "text/plain": [
              "<Figure size 640x480 with 1 Axes>"
            ],
            "image/png": "[encoded data removed]"
          },
          "metadata": {}
        }
      ]
    },
    {
      "cell_type": "markdown",
      "source": [
        "# **Dar es Salaam is city where we used to spend more  on distributor products and the behaviour of the customer i.e 41%.After that Moshi with 38%**"
      ],
      "metadata": {
        "id": "lQBS0v9yJj0-"
      }
    },
    {
      "cell_type": "code",
      "source": [
        "# Define the ratio of gap of each fragment in a tuple\n",
        "explode = (0.05, 0.05, 0.05,0.05)\n",
        "\n",
        "# Plotting the pie chart for above dataframe\n",
        "df.groupby(['Most_Purchased_Product']).sum().plot(\n",
        "    kind='pie', y='Spending_Score', autopct='%1.0f%%', explode=explode, legend = False, ylabel='')"
      ],
      "metadata": {
        "colab": {
          "base_uri": "https://localhost:8080/",
          "height": 423
        },
        "id": "ykdzl0RqC8ft",
        "outputId": "12f3f40e-5a5f-4422-c055-853567213540"
      },
      "execution_count": 288,
      "outputs": [
        {
          "output_type": "execute_result",
          "data": {
            "text/plain": [
              "<Axes: >"
            ]
          },
          "metadata": {},
          "execution_count": 288
        },
        {
          "output_type": "display_data",
          "data": {
            "text/plain": [
              "<Figure size 640x480 with 1 Axes>"
            ],
            "image/png": "[encoded data removed]"
          },
          "metadata": {}
        }
      ]
    },
    {
      "cell_type": "markdown",
      "source": [
        "## **mthindi 250ml is the milk product where we spend highest money(41%) on distributor products and the behaviour of the customer.After that fresh milk 1 ltr with 38%.**"
      ],
      "metadata": {
        "id": "icd35jy8OliP"
      }
    },
    {
      "cell_type": "code",
      "source": [
        "# Cross tabulation between City and Cluster  Nature\n",
        "CrosstabResult=pd.crosstab(index=df['City'],columns=df['Cluster_Nature'])\n",
        "print(CrosstabResult)\n",
        "# Grouped bar chart\n",
        "CrosstabResult.plot.bar(figsize=(7,4), rot=0)\n",
        "plt.legend(bbox_to_anchor=(1.36, 1.04))"
      ],
      "metadata": {
        "colab": {
          "base_uri": "https://localhost:8080/",
          "height": 514
        },
        "id": "nGlsOzdUDKN8",
        "outputId": "d7debffb-cabe-4229-fd80-c8d7a05e1262"
      },
      "execution_count": 289,
      "outputs": [
        {
          "output_type": "stream",
          "name": "stdout",
          "text": [
            "Cluster_Nature  Careful  General  Miser  Spendthrift  Target\n",
            "City                                                        \n",
            "Dar es Salaam         0        8     35            0      39\n",
            "Moshi                 2       73      0            1       0\n",
            "Mtwara               21        0      0            0       0\n",
            "Zanzibar City         0        0      0           21       0\n"
          ]
        },
        {
          "output_type": "execute_result",
          "data": {
            "text/plain": [
              "<matplotlib.legend.Legend at 0x7b692e509a80>"
            ]
          },
          "metadata": {},
          "execution_count": 289
        },
        {
          "output_type": "display_data",
          "data": {
            "text/plain": [
              "<Figure size 700x400 with 1 Axes>"
            ],
            "image/png": "[encoded data removed]"
          },
          "metadata": {}
        }
      ]
    },
    {
      "cell_type": "markdown",
      "source": [
        "\n",
        "**Miser:-** a person who loves to have a lot of money but hates to spend it.\n",
        "\n",
        "**Spendthirft:-** a person who spends a lot of money carelessly or wastes money."
      ],
      "metadata": {
        "id": "PWy7-qr5QoDP"
      }
    },
    {
      "cell_type": "code",
      "source": [
        "# Cross tabulation between Product and Cluster  Nature\n",
        "CrosstabResult=pd.crosstab(index=df['Most_Purchased_Product'],columns=df['City'])\n",
        "print(CrosstabResult)\n",
        "# Grouped bar chart\n",
        "CrosstabResult.plot.bar(figsize=(7,4))\n",
        "plt.legend(bbox_to_anchor=(1.0, 1.0))"
      ],
      "metadata": {
        "colab": {
          "base_uri": "https://localhost:8080/",
          "height": 612
        },
        "id": "wPEb_xBZDRSW",
        "outputId": "59a444ae-af3e-4add-95d3-f75830619544"
      },
      "execution_count": 290,
      "outputs": [
        {
          "output_type": "stream",
          "name": "stdout",
          "text": [
            "City                    Dar es Salaam  Moshi  Mtwara  Zanzibar City\n",
            "Most_Purchased_Product                                             \n",
            "Fresh Milk 1ltr                     0     76       0              0\n",
            "Fresh Milk 250ml                    0      0       0             21\n",
            "Mtindi 250ml                       82      0       0              0\n",
            "Mtindi 500ml                        0      0      21              0\n"
          ]
        },
        {
          "output_type": "execute_result",
          "data": {
            "text/plain": [
              "<matplotlib.legend.Legend at 0x7b6930a2cb20>"
            ]
          },
          "metadata": {},
          "execution_count": 290
        },
        {
          "output_type": "display_data",
          "data": {
            "text/plain": [
              "<Figure size 700x400 with 1 Axes>"
            ],
            "image/png": "[encoded data removed]"
          },
          "metadata": {}
        }
      ]
    },
    {
      "cell_type": "markdown",
      "source": [
        "***MOST PURCHASED PRODUCT is Mtindi 250ml after that Fresh Milk 1ltr***"
      ],
      "metadata": {
        "id": "SeS0nTxXRGrl"
      }
    },
    {
      "cell_type": "code",
      "source": [
        "#Pivoit Table on city vs Cluster Nature aggregated by Annual Revenue\n",
        "table = pd.pivot_table(df,index=['City','Cluster_Nature'],aggfunc={'Annual_Revenue':np.mean}) #,'Most_Purchased_Product':np.sum\n",
        "print(table)\n",
        "table.plot(kind='bar')"
      ],
      "metadata": {
        "id": "4xjhzZyXDam0",
        "outputId": "64c1958f-cb0b-403d-bfd8-03c50e6fc4f5",
        "colab": {
          "base_uri": "https://localhost:8080/",
          "height": 817
        }
      },
      "execution_count": 291,
      "outputs": [
        {
          "output_type": "stream",
          "name": "stdout",
          "text": [
            "                              Annual_Revenue\n",
            "City          Cluster_Nature                \n",
            "Dar es Salaam General              69.500000\n",
            "              Miser                88.200000\n",
            "              Target               86.538462\n",
            "Moshi         Careful              39.000000\n",
            "              General              53.739726\n",
            "              Spendthrift          39.000000\n",
            "Mtwara        Careful              25.095238\n",
            "Zanzibar City Spendthrift          25.095238\n"
          ]
        },
        {
          "output_type": "execute_result",
          "data": {
            "text/plain": [
              "<Axes: xlabel='City,Cluster_Nature'>"
            ]
          },
          "metadata": {},
          "execution_count": 291
        },
        {
          "output_type": "display_data",
          "data": {
            "text/plain": [
              "<Figure size 640x480 with 1 Axes>"
            ],
            "image/png": "[encoded data removed]"
          },
          "metadata": {}
        }
      ]
    },
    {
      "cell_type": "code",
      "source": [
        "# Count plots for categorical features\n",
        "plt.figure(figsize=(6, 4))\n",
        "plt.subplot(1, 2, 1)\n",
        "sns.countplot(y='City', data=df, order=df['City'].value_counts().index[:10])\n",
        "plt.title('Top 10 Cities by Merchant Count')\n",
        "\n",
        "plt.subplot(1, 2, 2)\n",
        "sns.countplot(y='Most_Purchased_Product', data=df, order=df['Most_Purchased_Product'].value_counts().index[:10])\n",
        "plt.title('Top 10 Most Purchased Products')\n",
        "plt.tight_layout()\n",
        "plt.show()"
      ],
      "metadata": {
        "colab": {
          "base_uri": "https://localhost:8080/",
          "height": 407
        },
        "id": "AmHtEF4NlWLO",
        "outputId": "74527748-d608-4799-8722-308fecb2cfc4"
      },
      "execution_count": 292,
      "outputs": [
        {
          "output_type": "display_data",
          "data": {
            "text/plain": [
              "<Figure size 600x400 with 2 Axes>"
            ],
            "image/png": "[encoded data removed]"
          },
          "metadata": {}
        }
      ]
    },
    {
      "cell_type": "markdown",
      "source": [
        "***COUNT OF TOP 10 Cities and TOP 10 Most Purchased Product***\n",
        "\n",
        "# ***Out of 10 it is showing only 4 Because We have only 4 cities and we have only 4 most purchased products that's why it is showing only 4***"
      ],
      "metadata": {
        "id": "g4odAlfYTYYu"
      }
    },
    {
      "cell_type": "code",
      "source": [
        "# Count plots for categorical features\n",
        "plt.figure(figsize=(6, 3))\n",
        "plt.subplot(1, 2, 1)\n",
        "sns.countplot(y='City', data=df, order=df['City'].value_counts().index[:2])\n",
        "plt.title('Top 2 Cities by Merchant Count')\n",
        "\n",
        "plt.subplot(1, 2, 2)\n",
        "sns.countplot(y='Most_Purchased_Product', data=df, order=df['Most_Purchased_Product'].value_counts().index[:2])\n",
        "plt.title('Top 2 Most Purchased Products')\n",
        "plt.tight_layout()\n",
        "plt.show()"
      ],
      "metadata": {
        "colab": {
          "base_uri": "https://localhost:8080/",
          "height": 307
        },
        "id": "eRVFsrGEUN2C",
        "outputId": "d0b7462a-c214-4420-e705-4997b4b56225"
      },
      "execution_count": 293,
      "outputs": [
        {
          "output_type": "display_data",
          "data": {
            "text/plain": [
              "<Figure size 600x300 with 2 Axes>"
            ],
            "image/png": "[encoded data removed]"
          },
          "metadata": {}
        }
      ]
    },
    {
      "cell_type": "code",
      "source": [
        "df.head()"
      ],
      "metadata": {
        "colab": {
          "base_uri": "https://localhost:8080/",
          "height": 206
        },
        "id": "XSrYpdEBTMIa",
        "outputId": "4df5c470-8e67-49ed-d86b-a3b2a532d086"
      },
      "execution_count": 294,
      "outputs": [
        {
          "output_type": "execute_result",
          "data": {
            "text/plain": [
              "   Merchant Id  Annual_Revenue  Spending_Score           City  \\\n",
              "0            1              15              39         Mtwara   \n",
              "1            2              15              81  Zanzibar City   \n",
              "2            3              16               6         Mtwara   \n",
              "3            4              16              77  Zanzibar City   \n",
              "4            5              17              40         Mtwara   \n",
              "\n",
              "  Most_Purchased_Product  Cluster_Number Cluster_Nature  \n",
              "0           Mtindi 500ml               2        Careful  \n",
              "1       Fresh Milk 250ml               3    Spendthrift  \n",
              "2           Mtindi 500ml               2        Careful  \n",
              "3       Fresh Milk 250ml               3    Spendthrift  \n",
              "4           Mtindi 500ml               2        Careful  "
            ],
            "text/html": [
              "\n",
              "  <div id=\"df-b32b0cb8-efa7-4b83-a9e2-54633f72deb3\" class=\"colab-df-container\">\n",
              "    <div>\n",
              "<style scoped>\n",
              "    .dataframe tbody tr th:only-of-type {\n",
              "        vertical-align: middle;\n",
              "    }\n",
              "\n",
              "    .dataframe tbody tr th {\n",
              "        vertical-align: top;\n",
              "    }\n",
              "\n",
              "    .dataframe thead th {\n",
              "        text-align: right;\n",
              "    }\n",
              "</style>\n",
              "<table border=\"1\" class=\"dataframe\">\n",
              "  <thead>\n",
              "    <tr style=\"text-align: right;\">\n",
              "      <th></th>\n",
              "      <th>Merchant Id</th>\n",
              "      <th>Annual_Revenue</th>\n",
              "      <th>Spending_Score</th>\n",
              "      <th>City</th>\n",
              "      <th>Most_Purchased_Product</th>\n",
              "      <th>Cluster_Number</th>\n",
              "      <th>Cluster_Nature</th>\n",
              "    </tr>\n",
              "  </thead>\n",
              "  <tbody>\n",
              "    <tr>\n",
              "      <th>0</th>\n",
              "      <td>1</td>\n",
              "      <td>15</td>\n",
              "      <td>39</td>\n",
              "      <td>Mtwara</td>\n",
              "      <td>Mtindi 500ml</td>\n",
              "      <td>2</td>\n",
              "      <td>Careful</td>\n",
              "    </tr>\n",
              "    <tr>\n",
              "      <th>1</th>\n",
              "      <td>2</td>\n",
              "      <td>15</td>\n",
              "      <td>81</td>\n",
              "      <td>Zanzibar City</td>\n",
              "      <td>Fresh Milk 250ml</td>\n",
              "      <td>3</td>\n",
              "      <td>Spendthrift</td>\n",
              "    </tr>\n",
              "    <tr>\n",
              "      <th>2</th>\n",
              "      <td>3</td>\n",
              "      <td>16</td>\n",
              "      <td>6</td>\n",
              "      <td>Mtwara</td>\n",
              "      <td>Mtindi 500ml</td>\n",
              "      <td>2</td>\n",
              "      <td>Careful</td>\n",
              "    </tr>\n",
              "    <tr>\n",
              "      <th>3</th>\n",
              "      <td>4</td>\n",
              "      <td>16</td>\n",
              "      <td>77</td>\n",
              "      <td>Zanzibar City</td>\n",
              "      <td>Fresh Milk 250ml</td>\n",
              "      <td>3</td>\n",
              "      <td>Spendthrift</td>\n",
              "    </tr>\n",
              "    <tr>\n",
              "      <th>4</th>\n",
              "      <td>5</td>\n",
              "      <td>17</td>\n",
              "      <td>40</td>\n",
              "      <td>Mtwara</td>\n",
              "      <td>Mtindi 500ml</td>\n",
              "      <td>2</td>\n",
              "      <td>Careful</td>\n",
              "    </tr>\n",
              "  </tbody>\n",
              "</table>\n",
              "</div>\n",
              "    <div class=\"colab-df-buttons\">\n",
              "\n",
              "  <div class=\"colab-df-container\">\n",
              "    <button class=\"colab-df-convert\" onclick=\"convertToInteractive('df-b32b0cb8-efa7-4b83-a9e2-54633f72deb3')\"\n",
              "            title=\"Convert this dataframe to an interactive table.\"\n",
              "            style=\"display:none;\">\n",
              "\n",
              "  <svg xmlns=\"http://www.w3.org/2000/svg\" height=\"24px\" viewBox=\"0 -960 960 960\">\n",
              "    <path d=\"M120-120v-720h720v720H120Zm60-500h600v-160H180v160Zm220 220h160v-160H400v160Zm0 220h160v-160H400v160ZM180-400h160v-160H180v160Zm440 0h160v-160H620v160ZM180-180h160v-160H180v160Zm440 0h160v-160H620v160Z\"/>\n",
              "  </svg>\n",
              "    </button>\n",
              "\n",
              "  <style>\n",
              "    .colab-df-container {\n",
              "      display:flex;\n",
              "      gap: 12px;\n",
              "    }\n",
              "\n",
              "    .colab-df-convert {\n",
              "      background-color: #E8F0FE;\n",
              "      border: none;\n",
              "      border-radius: 50%;\n",
              "      cursor: pointer;\n",
              "      display: none;\n",
              "      fill: #1967D2;\n",
              "      height: 32px;\n",
              "      padding: 0 0 0 0;\n",
              "      width: 32px;\n",
              "    }\n",
              "\n",
              "    .colab-df-convert:hover {\n",
              "      background-color: #E2EBFA;\n",
              "      box-shadow: 0px 1px 2px rgba(60, 64, 67, 0.3), 0px 1px 3px 1px rgba(60, 64, 67, 0.15);\n",
              "      fill: #174EA6;\n",
              "    }\n",
              "\n",
              "    .colab-df-buttons div {\n",
              "      margin-bottom: 4px;\n",
              "    }\n",
              "\n",
              "    [theme=dark] .colab-df-convert {\n",
              "      background-color: #3B4455;\n",
              "      fill: #D2E3FC;\n",
              "    }\n",
              "\n",
              "    [theme=dark] .colab-df-convert:hover {\n",
              "      background-color: #434B5C;\n",
              "      box-shadow: 0px 1px 3px 1px rgba(0, 0, 0, 0.15);\n",
              "      filter: drop-shadow(0px 1px 2px rgba(0, 0, 0, 0.3));\n",
              "      fill: #FFFFFF;\n",
              "    }\n",
              "  </style>\n",
              "\n",
              "    <script>\n",
              "      const buttonEl =\n",
              "        document.querySelector('#df-b32b0cb8-efa7-4b83-a9e2-54633f72deb3 button.colab-df-convert');\n",
              "      buttonEl.style.display =\n",
              "        google.colab.kernel.accessAllowed ? 'block' : 'none';\n",
              "\n",
              "      async function convertToInteractive(key) {\n",
              "        const element = document.querySelector('#df-b32b0cb8-efa7-4b83-a9e2-54633f72deb3');\n",
              "        const dataTable =\n",
              "          await google.colab.kernel.invokeFunction('convertToInteractive',\n",
              "                                                    [key], {});\n",
              "        if (!dataTable) return;\n",
              "\n",
              "        const docLinkHtml = 'Like what you see? Visit the ' +\n",
              "          '<a target=\"_blank\" href=https://colab.research.google.com/notebooks/data_table.ipynb>data table notebook</a>'\n",
              "          + ' to learn more about interactive tables.';\n",
              "        element.innerHTML = '';\n",
              "        dataTable['output_type'] = 'display_data';\n",
              "        await google.colab.output.renderOutput(dataTable, element);\n",
              "        const docLink = document.createElement('div');\n",
              "        docLink.innerHTML = docLinkHtml;\n",
              "        element.appendChild(docLink);\n",
              "      }\n",
              "    </script>\n",
              "  </div>\n",
              "\n",
              "\n",
              "<div id=\"df-cc9d07c2-78ed-4978-9024-e4755ae60242\">\n",
              "  <button class=\"colab-df-quickchart\" onclick=\"quickchart('df-cc9d07c2-78ed-4978-9024-e4755ae60242')\"\n",
              "            title=\"Suggest charts\"\n",
              "            style=\"display:none;\">\n",
              "\n",
              "<svg xmlns=\"http://www.w3.org/2000/svg\" height=\"24px\"viewBox=\"0 0 24 24\"\n",
              "     width=\"24px\">\n",
              "    <g>\n",
              "        <path d=\"M19 3H5c-1.1 0-2 .9-2 2v14c0 1.1.9 2 2 2h14c1.1 0 2-.9 2-2V5c0-1.1-.9-2-2-2zM9 17H7v-7h2v7zm4 0h-2V7h2v10zm4 0h-2v-4h2v4z\"/>\n",
              "    </g>\n",
              "</svg>\n",
              "  </button>\n",
              "\n",
              "<style>\n",
              "  .colab-df-quickchart {\n",
              "      --bg-color: #E8F0FE;\n",
              "      --fill-color: #1967D2;\n",
              "      --hover-bg-color: #E2EBFA;\n",
              "      --hover-fill-color: #174EA6;\n",
              "      --disabled-fill-color: #AAA;\n",
              "      --disabled-bg-color: #DDD;\n",
              "  }\n",
              "\n",
              "  [theme=dark] .colab-df-quickchart {\n",
              "      --bg-color: #3B4455;\n",
              "      --fill-color: #D2E3FC;\n",
              "      --hover-bg-color: #434B5C;\n",
              "      --hover-fill-color: #FFFFFF;\n",
              "      --disabled-bg-color: #3B4455;\n",
              "      --disabled-fill-color: #666;\n",
              "  }\n",
              "\n",
              "  .colab-df-quickchart {\n",
              "    background-color: var(--bg-color);\n",
              "    border: none;\n",
              "    border-radius: 50%;\n",
              "    cursor: pointer;\n",
              "    display: none;\n",
              "    fill: var(--fill-color);\n",
              "    height: 32px;\n",
              "    padding: 0;\n",
              "    width: 32px;\n",
              "  }\n",
              "\n",
              "  .colab-df-quickchart:hover {\n",
              "    background-color: var(--hover-bg-color);\n",
              "    box-shadow: 0 1px 2px rgba(60, 64, 67, 0.3), 0 1px 3px 1px rgba(60, 64, 67, 0.15);\n",
              "    fill: var(--button-hover-fill-color);\n",
              "  }\n",
              "\n",
              "  .colab-df-quickchart-complete:disabled,\n",
              "  .colab-df-quickchart-complete:disabled:hover {\n",
              "    background-color: var(--disabled-bg-color);\n",
              "    fill: var(--disabled-fill-color);\n",
              "    box-shadow: none;\n",
              "  }\n",
              "\n",
              "  .colab-df-spinner {\n",
              "    border: 2px solid var(--fill-color);\n",
              "    border-color: transparent;\n",
              "    border-bottom-color: var(--fill-color);\n",
              "    animation:\n",
              "      spin 1s steps(1) infinite;\n",
              "  }\n",
              "\n",
              "  @keyframes spin {\n",
              "    0% {\n",
              "      border-color: transparent;\n",
              "      border-bottom-color: var(--fill-color);\n",
              "      border-left-color: var(--fill-color);\n",
              "    }\n",
              "    20% {\n",
              "      border-color: transparent;\n",
              "      border-left-color: var(--fill-color);\n",
              "      border-top-color: var(--fill-color);\n",
              "    }\n",
              "    30% {\n",
              "      border-color: transparent;\n",
              "      border-left-color: var(--fill-color);\n",
              "      border-top-color: var(--fill-color);\n",
              "      border-right-color: var(--fill-color);\n",
              "    }\n",
              "    40% {\n",
              "      border-color: transparent;\n",
              "      border-right-color: var(--fill-color);\n",
              "      border-top-color: var(--fill-color);\n",
              "    }\n",
              "    60% {\n",
              "      border-color: transparent;\n",
              "      border-right-color: var(--fill-color);\n",
              "    }\n",
              "    80% {\n",
              "      border-color: transparent;\n",
              "      border-right-color: var(--fill-color);\n",
              "      border-bottom-color: var(--fill-color);\n",
              "    }\n",
              "    90% {\n",
              "      border-color: transparent;\n",
              "      border-bottom-color: var(--fill-color);\n",
              "    }\n",
              "  }\n",
              "</style>\n",
              "\n",
              "  <script>\n",
              "    async function quickchart(key) {\n",
              "      const quickchartButtonEl =\n",
              "        document.querySelector('#' + key + ' button');\n",
              "      quickchartButtonEl.disabled = true;  // To prevent multiple clicks.\n",
              "      quickchartButtonEl.classList.add('colab-df-spinner');\n",
              "      try {\n",
              "        const charts = await google.colab.kernel.invokeFunction(\n",
              "            'suggestCharts', [key], {});\n",
              "      } catch (error) {\n",
              "        console.error('Error during call to suggestCharts:', error);\n",
              "      }\n",
              "      quickchartButtonEl.classList.remove('colab-df-spinner');\n",
              "      quickchartButtonEl.classList.add('colab-df-quickchart-complete');\n",
              "    }\n",
              "    (() => {\n",
              "      let quickchartButtonEl =\n",
              "        document.querySelector('#df-cc9d07c2-78ed-4978-9024-e4755ae60242 button');\n",
              "      quickchartButtonEl.style.display =\n",
              "        google.colab.kernel.accessAllowed ? 'block' : 'none';\n",
              "    })();\n",
              "  </script>\n",
              "</div>\n",
              "\n",
              "    </div>\n",
              "  </div>\n"
            ],
            "application/vnd.google.colaboratory.intrinsic+json": {
              "type": "dataframe",
              "variable_name": "df",
              "summary": "{\n  \"name\": \"df\",\n  \"rows\": 200,\n  \"fields\": [\n    {\n      \"column\": \"Merchant Id\",\n      \"properties\": {\n        \"dtype\": \"number\",\n        \"std\": 57,\n        \"min\": 1,\n        \"max\": 200,\n        \"num_unique_values\": 200,\n        \"samples\": [\n          96,\n          16,\n          31\n        ],\n        \"semantic_type\": \"\",\n        \"description\": \"\"\n      }\n    },\n    {\n      \"column\": \"Annual_Revenue\",\n      \"properties\": {\n        \"dtype\": \"number\",\n        \"std\": 26,\n        \"min\": 15,\n        \"max\": 137,\n        \"num_unique_values\": 64,\n        \"samples\": [\n          87,\n          101,\n          15\n        ],\n        \"semantic_type\": \"\",\n        \"description\": \"\"\n      }\n    },\n    {\n      \"column\": \"Spending_Score\",\n      \"properties\": {\n        \"dtype\": \"number\",\n        \"std\": 25,\n        \"min\": 1,\n        \"max\": 99,\n        \"num_unique_values\": 84,\n        \"samples\": [\n          83,\n          39,\n          71\n        ],\n        \"semantic_type\": \"\",\n        \"description\": \"\"\n      }\n    },\n    {\n      \"column\": \"City\",\n      \"properties\": {\n        \"dtype\": \"category\",\n        \"num_unique_values\": 4,\n        \"samples\": [\n          \"Zanzibar City\",\n          \"Dar es Salaam\",\n          \"Mtwara\"\n        ],\n        \"semantic_type\": \"\",\n        \"description\": \"\"\n      }\n    },\n    {\n      \"column\": \"Most_Purchased_Product\",\n      \"properties\": {\n        \"dtype\": \"category\",\n        \"num_unique_values\": 4,\n        \"samples\": [\n          \"Fresh Milk 250ml\",\n          \"Mtindi 250ml\",\n          \"Mtindi 500ml\"\n        ],\n        \"semantic_type\": \"\",\n        \"description\": \"\"\n      }\n    },\n    {\n      \"column\": \"Cluster_Number\",\n      \"properties\": {\n        \"dtype\": \"number\",\n        \"std\": 1,\n        \"min\": 0,\n        \"max\": 4,\n        \"num_unique_values\": 5,\n        \"samples\": [\n          3,\n          1,\n          0\n        ],\n        \"semantic_type\": \"\",\n        \"description\": \"\"\n      }\n    },\n    {\n      \"column\": \"Cluster_Nature\",\n      \"properties\": {\n        \"dtype\": \"category\",\n        \"num_unique_values\": 5,\n        \"samples\": [\n          \"Spendthrift\",\n          \"Miser\",\n          \"General\"\n        ],\n        \"semantic_type\": \"\",\n        \"description\": \"\"\n      }\n    }\n  ]\n}"
            }
          },
          "metadata": {},
          "execution_count": 294
        }
      ]
    },
    {
      "cell_type": "markdown",
      "source": [
        "# ***PROBLEM'S SOLUTIONS***"
      ],
      "metadata": {
        "id": "3uQme5lmU6g-"
      }
    },
    {
      "cell_type": "markdown",
      "source": [
        "\n",
        "# Make use of the merchant data set below to develop models that will help Cow and Buffalo Milk company target the right customers.\n"
      ],
      "metadata": {
        "id": "zThwso1yaDPu"
      }
    },
    {
      "cell_type": "markdown",
      "source": [
        "# **PROBLEM 2-**Given the payment history that the merchant has and the cities that the merchant operates in, create a credit scoring algorithm that will help the distributor.\n"
      ],
      "metadata": {
        "id": "1WVmVohLM3Mr"
      }
    },
    {
      "cell_type": "markdown",
      "source": [
        "**CREDIT SCORING ALGO**"
      ],
      "metadata": {
        "id": "snCDAuL3wNzx"
      }
    },
    {
      "cell_type": "code",
      "source": [
        "# Display the first few rows and inspect the columns\n",
        "print(df.head())\n",
        "print(df.info())\n",
        "\n",
        "# Drop rows with missing values if any\n",
        "df.dropna(inplace=True)\n",
        "\n",
        "# Encode categorical variables\n",
        "from sklearn.preprocessing import LabelEncoder\n",
        "\n",
        "le = LabelEncoder()\n",
        "df['City'] = le.fit_transform(df['City'])\n",
        "df['Most_Purchased_Product'] = le.fit_transform(df['Most_Purchased_Product'])\n"
      ],
      "metadata": {
        "id": "2jWLXa-ZSPAB",
        "colab": {
          "base_uri": "https://localhost:8080/"
        },
        "outputId": "40b860e9-f17a-4b64-c9cb-d7843e839c09"
      },
      "execution_count": 295,
      "outputs": [
        {
          "output_type": "stream",
          "name": "stdout",
          "text": [
            "   Merchant Id  Annual_Revenue  Spending_Score           City  \\\n",
            "0            1              15              39         Mtwara   \n",
            "1            2              15              81  Zanzibar City   \n",
            "2            3              16               6         Mtwara   \n",
            "3            4              16              77  Zanzibar City   \n",
            "4            5              17              40         Mtwara   \n",
            "\n",
            "  Most_Purchased_Product  Cluster_Number Cluster_Nature  \n",
            "0           Mtindi 500ml               2        Careful  \n",
            "1       Fresh Milk 250ml               3    Spendthrift  \n",
            "2           Mtindi 500ml               2        Careful  \n",
            "3       Fresh Milk 250ml               3    Spendthrift  \n",
            "4           Mtindi 500ml               2        Careful  \n",
            "<class 'pandas.core.frame.DataFrame'>\n",
            "RangeIndex: 200 entries, 0 to 199\n",
            "Data columns (total 7 columns):\n",
            " #   Column                  Non-Null Count  Dtype \n",
            "---  ------                  --------------  ----- \n",
            " 0   Merchant Id             200 non-null    int64 \n",
            " 1   Annual_Revenue          200 non-null    int64 \n",
            " 2   Spending_Score          200 non-null    int64 \n",
            " 3   City                    200 non-null    object\n",
            " 4   Most_Purchased_Product  200 non-null    object\n",
            " 5   Cluster_Number          200 non-null    int64 \n",
            " 6   Cluster_Nature          200 non-null    object\n",
            "dtypes: int64(4), object(3)\n",
            "memory usage: 11.1+ KB\n",
            "None\n"
          ]
        }
      ]
    },
    {
      "cell_type": "markdown",
      "source": [
        "# **MODEL BUILDING**"
      ],
      "metadata": {
        "id": "p1grRfnrmo2o"
      }
    },
    {
      "cell_type": "code",
      "source": [
        "from sklearn.model_selection import train_test_split\n",
        "from sklearn.ensemble import RandomForestClassifier\n",
        "from sklearn.metrics import classification_report, accuracy_score\n",
        "\n",
        "# Select features and target\n",
        "X = df[['Annual_Revenue', 'Spending_Score', 'City', 'Most_Purchased_Product', 'Cluster_Number']]\n",
        "y = df['Cluster_Nature']  # Assuming 'Cluster_Nature' as the target variable to predict\n",
        "\n",
        "# Split data into training and testing sets\n",
        "X_train, X_test, y_train, y_test = train_test_split(X, y, test_size=0.2, random_state=42)\n",
        "\n",
        "# Initialize Random Forest Classifier\n",
        "clf = RandomForestClassifier(random_state=42)\n",
        "\n",
        "# Train the model\n",
        "clf.fit(X_train, y_train)\n",
        "\n",
        "# Predict on test set\n",
        "y_pred = clf.predict(X_test)\n",
        "\n",
        "# Evaluate model performance\n",
        "print(classification_report(y_test, y_pred))\n",
        "print(\"Accuracy:\", accuracy_score(y_test, y_pred))\n"
      ],
      "metadata": {
        "colab": {
          "base_uri": "https://localhost:8080/"
        },
        "id": "_v5-pClRM5S3",
        "outputId": "c0eb458f-0fe3-45c4-e416-7943c90f9899"
      },
      "execution_count": 296,
      "outputs": [
        {
          "output_type": "stream",
          "name": "stdout",
          "text": [
            "              precision    recall  f1-score   support\n",
            "\n",
            "     Careful       1.00      1.00      1.00         3\n",
            "     General       1.00      1.00      1.00        18\n",
            "       Miser       1.00      1.00      1.00        11\n",
            " Spendthrift       1.00      1.00      1.00         3\n",
            "      Target       1.00      1.00      1.00         5\n",
            "\n",
            "    accuracy                           1.00        40\n",
            "   macro avg       1.00      1.00      1.00        40\n",
            "weighted avg       1.00      1.00      1.00        40\n",
            "\n",
            "Accuracy: 1.0\n"
          ]
        }
      ]
    },
    {
      "cell_type": "markdown",
      "source": [
        "# **PROBLEM 4-**\n",
        "# Create a parameter based on their nature from the cluster group they belong to, such as Careful, Spendthrift, General, Target and Miser"
      ],
      "metadata": {
        "id": "32GWs5wlrk09"
      }
    },
    {
      "cell_type": "code",
      "source": [
        "# Example: Allocate advertising spend based on cluster insights\n",
        "cluster_summary = df.groupby('Cluster_Number')['Annual_Revenue'].mean()\n",
        "\n",
        "# Example recommendation: Focus advertising on clusters with high average annual revenue\n",
        "print(\"Cluster-wise Annual Revenue Summary:\")\n",
        "print(cluster_summary)\n"
      ],
      "metadata": {
        "colab": {
          "base_uri": "https://localhost:8080/"
        },
        "id": "NlOOaAL2E-w2",
        "outputId": "e15ee1e1-cf15-49ae-8e54-b8f8209dab7f"
      },
      "execution_count": 297,
      "outputs": [
        {
          "output_type": "stream",
          "name": "stdout",
          "text": [
            "Cluster-wise Annual Revenue Summary:\n",
            "Cluster_Number\n",
            "0    55.296296\n",
            "1    88.200000\n",
            "2    26.304348\n",
            "3    25.727273\n",
            "4    86.538462\n",
            "Name: Annual_Revenue, dtype: float64\n"
          ]
        }
      ]
    },
    {
      "cell_type": "markdown",
      "source": [
        "## **PROBLEM 3:-** Figure out which are the most creditworthy merchants and which ones are not"
      ],
      "metadata": {
        "id": "y-qxicuZknq9"
      }
    },
    {
      "cell_type": "code",
      "source": [
        "# Predict cluster nature for all merchants\n",
        "df['Predicted_Cluster_Nature'] = clf.predict(X)\n",
        "\n",
        "# Identify most creditworthy merchants\n",
        "most_creditworthy = df[df['Predicted_Cluster_Nature'].isin(['Careful', 'General'])]\n",
        "\n",
        "# Identify least creditworthy merchants\n",
        "least_creditworthy = df[df['Predicted_Cluster_Nature'].isin(['Spendthrift', 'Miser'])]\n",
        "\n",
        "# Output results to CSV\n",
        "df.to_csv('final_analyzed_data.csv', index=False)\n",
        "print(df.head())\n",
        "\n",
        "# Display the results\n",
        "print(\"Most Creditworthy Merchants:\")\n",
        "print(most_creditworthy)\n",
        "\n",
        "print(\"\\nLeast Creditworthy Merchants:\")\n",
        "print(least_creditworthy)\n",
        "\n",
        "print(\"final_analyzed_data.csv file saved successfully\")\n"
      ],
      "metadata": {
        "colab": {
          "base_uri": "https://localhost:8080/"
        },
        "id": "N9Lxoujef5Gf",
        "outputId": "327017cc-0719-49ed-817b-bf4c576c642d"
      },
      "execution_count": 298,
      "outputs": [
        {
          "output_type": "stream",
          "name": "stdout",
          "text": [
            "   Merchant Id  Annual_Revenue  Spending_Score  City  Most_Purchased_Product  \\\n",
            "0            1              15              39     2                       3   \n",
            "1            2              15              81     3                       1   \n",
            "2            3              16               6     2                       3   \n",
            "3            4              16              77     3                       1   \n",
            "4            5              17              40     2                       3   \n",
            "\n",
            "   Cluster_Number Cluster_Nature Predicted_Cluster_Nature  \n",
            "0               2        Careful                  Careful  \n",
            "1               3    Spendthrift              Spendthrift  \n",
            "2               2        Careful                  Careful  \n",
            "3               3    Spendthrift              Spendthrift  \n",
            "4               2        Careful                  Careful  \n",
            "Most Creditworthy Merchants:\n",
            "     Merchant Id  Annual_Revenue  Spending_Score  City  \\\n",
            "0              1              15              39     2   \n",
            "2              3              16               6     2   \n",
            "4              5              17              40     2   \n",
            "6              7              18               6     2   \n",
            "8              9              19               3     2   \n",
            "..           ...             ...             ...   ...   \n",
            "121          122              67              40     0   \n",
            "122          123              69              58     0   \n",
            "126          127              71              35     0   \n",
            "132          133              72              34     0   \n",
            "142          143              76              40     0   \n",
            "\n",
            "     Most_Purchased_Product  Cluster_Number Cluster_Nature  \\\n",
            "0                         3               2        Careful   \n",
            "2                         3               2        Careful   \n",
            "4                         3               2        Careful   \n",
            "6                         3               2        Careful   \n",
            "8                         3               2        Careful   \n",
            "..                      ...             ...            ...   \n",
            "121                       2               0        General   \n",
            "122                       2               0        General   \n",
            "126                       2               0        General   \n",
            "132                       2               0        General   \n",
            "142                       2               0        General   \n",
            "\n",
            "    Predicted_Cluster_Nature  \n",
            "0                    Careful  \n",
            "2                    Careful  \n",
            "4                    Careful  \n",
            "6                    Careful  \n",
            "8                    Careful  \n",
            "..                       ...  \n",
            "121                  General  \n",
            "122                  General  \n",
            "126                  General  \n",
            "132                  General  \n",
            "142                  General  \n",
            "\n",
            "[104 rows x 8 columns]\n",
            "\n",
            "Least Creditworthy Merchants:\n",
            "     Merchant Id  Annual_Revenue  Spending_Score  City  \\\n",
            "1              2              15              81     3   \n",
            "3              4              16              77     3   \n",
            "5              6              17              76     3   \n",
            "7              8              18              94     3   \n",
            "9             10              19              72     3   \n",
            "11            12              19              99     3   \n",
            "13            14              20              77     3   \n",
            "15            16              20              79     3   \n",
            "17            18              21              66     3   \n",
            "19            20              23              98     3   \n",
            "21            22              24              73     3   \n",
            "23            24              25              73     3   \n",
            "25            26              28              82     3   \n",
            "27            28              28              61     3   \n",
            "29            30              29              87     3   \n",
            "31            32              30              73     3   \n",
            "33            34              33              92     3   \n",
            "35            36              33              81     3   \n",
            "37            38              34              73     3   \n",
            "39            40              37              75     3   \n",
            "41            42              38              92     3   \n",
            "45            46              39              65     1   \n",
            "124          125              70              29     0   \n",
            "128          129              71              11     0   \n",
            "130          131              71               9     0   \n",
            "134          135              73               5     0   \n",
            "136          137              73               7     0   \n",
            "138          139              74              10     0   \n",
            "140          141              75               5     0   \n",
            "144          145              77              12     0   \n",
            "146          147              77              36     0   \n",
            "148          149              78              22     0   \n",
            "150          151              78              17     0   \n",
            "152          153              78              20     0   \n",
            "154          155              78              16     0   \n",
            "156          157              78               1     0   \n",
            "158          159              78               1     0   \n",
            "160          161              79              35     0   \n",
            "162          163              81               5     0   \n",
            "164          165              85              26     0   \n",
            "166          167              86              20     0   \n",
            "168          169              87              27     0   \n",
            "170          171              87              13     0   \n",
            "172          173              87              10     0   \n",
            "174          175              88              13     0   \n",
            "176          177              88              15     0   \n",
            "178          179              93              14     0   \n",
            "180          181              97              32     0   \n",
            "182          183              98              15     0   \n",
            "184          185              99              39     0   \n",
            "186          187             101              24     0   \n",
            "188          189             103              17     0   \n",
            "190          191             103              23     0   \n",
            "192          193             113               8     0   \n",
            "194          195             120              16     0   \n",
            "196          197             126              28     0   \n",
            "198          199             137              18     0   \n",
            "\n",
            "     Most_Purchased_Product  Cluster_Number Cluster_Nature  \\\n",
            "1                         1               3    Spendthrift   \n",
            "3                         1               3    Spendthrift   \n",
            "5                         1               3    Spendthrift   \n",
            "7                         1               3    Spendthrift   \n",
            "9                         1               3    Spendthrift   \n",
            "11                        1               3    Spendthrift   \n",
            "13                        1               3    Spendthrift   \n",
            "15                        1               3    Spendthrift   \n",
            "17                        1               3    Spendthrift   \n",
            "19                        1               3    Spendthrift   \n",
            "21                        1               3    Spendthrift   \n",
            "23                        1               3    Spendthrift   \n",
            "25                        1               3    Spendthrift   \n",
            "27                        1               3    Spendthrift   \n",
            "29                        1               3    Spendthrift   \n",
            "31                        1               3    Spendthrift   \n",
            "33                        1               3    Spendthrift   \n",
            "35                        1               3    Spendthrift   \n",
            "37                        1               3    Spendthrift   \n",
            "39                        1               3    Spendthrift   \n",
            "41                        1               3    Spendthrift   \n",
            "45                        0               3    Spendthrift   \n",
            "124                       2               1          Miser   \n",
            "128                       2               1          Miser   \n",
            "130                       2               1          Miser   \n",
            "134                       2               1          Miser   \n",
            "136                       2               1          Miser   \n",
            "138                       2               1          Miser   \n",
            "140                       2               1          Miser   \n",
            "144                       2               1          Miser   \n",
            "146                       2               1          Miser   \n",
            "148                       2               1          Miser   \n",
            "150                       2               1          Miser   \n",
            "152                       2               1          Miser   \n",
            "154                       2               1          Miser   \n",
            "156                       2               1          Miser   \n",
            "158                       2               1          Miser   \n",
            "160                       2               1          Miser   \n",
            "162                       2               1          Miser   \n",
            "164                       2               1          Miser   \n",
            "166                       2               1          Miser   \n",
            "168                       2               1          Miser   \n",
            "170                       2               1          Miser   \n",
            "172                       2               1          Miser   \n",
            "174                       2               1          Miser   \n",
            "176                       2               1          Miser   \n",
            "178                       2               1          Miser   \n",
            "180                       2               1          Miser   \n",
            "182                       2               1          Miser   \n",
            "184                       2               1          Miser   \n",
            "186                       2               1          Miser   \n",
            "188                       2               1          Miser   \n",
            "190                       2               1          Miser   \n",
            "192                       2               1          Miser   \n",
            "194                       2               1          Miser   \n",
            "196                       2               1          Miser   \n",
            "198                       2               1          Miser   \n",
            "\n",
            "    Predicted_Cluster_Nature  \n",
            "1                Spendthrift  \n",
            "3                Spendthrift  \n",
            "5                Spendthrift  \n",
            "7                Spendthrift  \n",
            "9                Spendthrift  \n",
            "11               Spendthrift  \n",
            "13               Spendthrift  \n",
            "15               Spendthrift  \n",
            "17               Spendthrift  \n",
            "19               Spendthrift  \n",
            "21               Spendthrift  \n",
            "23               Spendthrift  \n",
            "25               Spendthrift  \n",
            "27               Spendthrift  \n",
            "29               Spendthrift  \n",
            "31               Spendthrift  \n",
            "33               Spendthrift  \n",
            "35               Spendthrift  \n",
            "37               Spendthrift  \n",
            "39               Spendthrift  \n",
            "41               Spendthrift  \n",
            "45               Spendthrift  \n",
            "124                    Miser  \n",
            "128                    Miser  \n",
            "130                    Miser  \n",
            "134                    Miser  \n",
            "136                    Miser  \n",
            "138                    Miser  \n",
            "140                    Miser  \n",
            "144                    Miser  \n",
            "146                    Miser  \n",
            "148                    Miser  \n",
            "150                    Miser  \n",
            "152                    Miser  \n",
            "154                    Miser  \n",
            "156                    Miser  \n",
            "158                    Miser  \n",
            "160                    Miser  \n",
            "162                    Miser  \n",
            "164                    Miser  \n",
            "166                    Miser  \n",
            "168                    Miser  \n",
            "170                    Miser  \n",
            "172                    Miser  \n",
            "174                    Miser  \n",
            "176                    Miser  \n",
            "178                    Miser  \n",
            "180                    Miser  \n",
            "182                    Miser  \n",
            "184                    Miser  \n",
            "186                    Miser  \n",
            "188                    Miser  \n",
            "190                    Miser  \n",
            "192                    Miser  \n",
            "194                    Miser  \n",
            "196                    Miser  \n",
            "198                    Miser  \n",
            "final_analyzed_data.csv file saved successfully\n"
          ]
        }
      ]
    },
    {
      "cell_type": "code",
      "source": [
        "df.head(199)"
      ],
      "metadata": {
        "colab": {
          "base_uri": "https://localhost:8080/",
          "height": 423
        },
        "id": "Sn20uX64gIbE",
        "outputId": "04df5205-c6c8-44ec-e9c0-4037b69e4871"
      },
      "execution_count": 299,
      "outputs": [
        {
          "output_type": "execute_result",
          "data": {
            "text/plain": [
              "     Merchant Id  Annual_Revenue  Spending_Score  City  \\\n",
              "0              1              15              39     2   \n",
              "1              2              15              81     3   \n",
              "2              3              16               6     2   \n",
              "3              4              16              77     3   \n",
              "4              5              17              40     2   \n",
              "..           ...             ...             ...   ...   \n",
              "194          195             120              16     0   \n",
              "195          196             120              79     0   \n",
              "196          197             126              28     0   \n",
              "197          198             126              74     0   \n",
              "198          199             137              18     0   \n",
              "\n",
              "     Most_Purchased_Product  Cluster_Number Cluster_Nature  \\\n",
              "0                         3               2        Careful   \n",
              "1                         1               3    Spendthrift   \n",
              "2                         3               2        Careful   \n",
              "3                         1               3    Spendthrift   \n",
              "4                         3               2        Careful   \n",
              "..                      ...             ...            ...   \n",
              "194                       2               1          Miser   \n",
              "195                       2               4         Target   \n",
              "196                       2               1          Miser   \n",
              "197                       2               4         Target   \n",
              "198                       2               1          Miser   \n",
              "\n",
              "    Predicted_Cluster_Nature  \n",
              "0                    Careful  \n",
              "1                Spendthrift  \n",
              "2                    Careful  \n",
              "3                Spendthrift  \n",
              "4                    Careful  \n",
              "..                       ...  \n",
              "194                    Miser  \n",
              "195                   Target  \n",
              "196                    Miser  \n",
              "197                   Target  \n",
              "198                    Miser  \n",
              "\n",
              "[199 rows x 8 columns]"
            ],
            "text/html": [
              "\n",
              "  <div id=\"df-3080c385-84ed-419e-b037-ad1be31a3dbc\" class=\"colab-df-container\">\n",
              "    <div>\n",
              "<style scoped>\n",
              "    .dataframe tbody tr th:only-of-type {\n",
              "        vertical-align: middle;\n",
              "    }\n",
              "\n",
              "    .dataframe tbody tr th {\n",
              "        vertical-align: top;\n",
              "    }\n",
              "\n",
              "    .dataframe thead th {\n",
              "        text-align: right;\n",
              "    }\n",
              "</style>\n",
              "<table border=\"1\" class=\"dataframe\">\n",
              "  <thead>\n",
              "    <tr style=\"text-align: right;\">\n",
              "      <th></th>\n",
              "      <th>Merchant Id</th>\n",
              "      <th>Annual_Revenue</th>\n",
              "      <th>Spending_Score</th>\n",
              "      <th>City</th>\n",
              "      <th>Most_Purchased_Product</th>\n",
              "      <th>Cluster_Number</th>\n",
              "      <th>Cluster_Nature</th>\n",
              "      <th>Predicted_Cluster_Nature</th>\n",
              "    </tr>\n",
              "  </thead>\n",
              "  <tbody>\n",
              "    <tr>\n",
              "      <th>0</th>\n",
              "      <td>1</td>\n",
              "      <td>15</td>\n",
              "      <td>39</td>\n",
              "      <td>2</td>\n",
              "      <td>3</td>\n",
              "      <td>2</td>\n",
              "      <td>Careful</td>\n",
              "      <td>Careful</td>\n",
              "    </tr>\n",
              "    <tr>\n",
              "      <th>1</th>\n",
              "      <td>2</td>\n",
              "      <td>15</td>\n",
              "      <td>81</td>\n",
              "      <td>3</td>\n",
              "      <td>1</td>\n",
              "      <td>3</td>\n",
              "      <td>Spendthrift</td>\n",
              "      <td>Spendthrift</td>\n",
              "    </tr>\n",
              "    <tr>\n",
              "      <th>2</th>\n",
              "      <td>3</td>\n",
              "      <td>16</td>\n",
              "      <td>6</td>\n",
              "      <td>2</td>\n",
              "      <td>3</td>\n",
              "      <td>2</td>\n",
              "      <td>Careful</td>\n",
              "      <td>Careful</td>\n",
              "    </tr>\n",
              "    <tr>\n",
              "      <th>3</th>\n",
              "      <td>4</td>\n",
              "      <td>16</td>\n",
              "      <td>77</td>\n",
              "      <td>3</td>\n",
              "      <td>1</td>\n",
              "      <td>3</td>\n",
              "      <td>Spendthrift</td>\n",
              "      <td>Spendthrift</td>\n",
              "    </tr>\n",
              "    <tr>\n",
              "      <th>4</th>\n",
              "      <td>5</td>\n",
              "      <td>17</td>\n",
              "      <td>40</td>\n",
              "      <td>2</td>\n",
              "      <td>3</td>\n",
              "      <td>2</td>\n",
              "      <td>Careful</td>\n",
              "      <td>Careful</td>\n",
              "    </tr>\n",
              "    <tr>\n",
              "      <th>...</th>\n",
              "      <td>...</td>\n",
              "      <td>...</td>\n",
              "      <td>...</td>\n",
              "      <td>...</td>\n",
              "      <td>...</td>\n",
              "      <td>...</td>\n",
              "      <td>...</td>\n",
              "      <td>...</td>\n",
              "    </tr>\n",
              "    <tr>\n",
              "      <th>194</th>\n",
              "      <td>195</td>\n",
              "      <td>120</td>\n",
              "      <td>16</td>\n",
              "      <td>0</td>\n",
              "      <td>2</td>\n",
              "      <td>1</td>\n",
              "      <td>Miser</td>\n",
              "      <td>Miser</td>\n",
              "    </tr>\n",
              "    <tr>\n",
              "      <th>195</th>\n",
              "      <td>196</td>\n",
              "      <td>120</td>\n",
              "      <td>79</td>\n",
              "      <td>0</td>\n",
              "      <td>2</td>\n",
              "      <td>4</td>\n",
              "      <td>Target</td>\n",
              "      <td>Target</td>\n",
              "    </tr>\n",
              "    <tr>\n",
              "      <th>196</th>\n",
              "      <td>197</td>\n",
              "      <td>126</td>\n",
              "      <td>28</td>\n",
              "      <td>0</td>\n",
              "      <td>2</td>\n",
              "      <td>1</td>\n",
              "      <td>Miser</td>\n",
              "      <td>Miser</td>\n",
              "    </tr>\n",
              "    <tr>\n",
              "      <th>197</th>\n",
              "      <td>198</td>\n",
              "      <td>126</td>\n",
              "      <td>74</td>\n",
              "      <td>0</td>\n",
              "      <td>2</td>\n",
              "      <td>4</td>\n",
              "      <td>Target</td>\n",
              "      <td>Target</td>\n",
              "    </tr>\n",
              "    <tr>\n",
              "      <th>198</th>\n",
              "      <td>199</td>\n",
              "      <td>137</td>\n",
              "      <td>18</td>\n",
              "      <td>0</td>\n",
              "      <td>2</td>\n",
              "      <td>1</td>\n",
              "      <td>Miser</td>\n",
              "      <td>Miser</td>\n",
              "    </tr>\n",
              "  </tbody>\n",
              "</table>\n",
              "<p>199 rows × 8 columns</p>\n",
              "</div>\n",
              "    <div class=\"colab-df-buttons\">\n",
              "\n",
              "  <div class=\"colab-df-container\">\n",
              "    <button class=\"colab-df-convert\" onclick=\"convertToInteractive('df-3080c385-84ed-419e-b037-ad1be31a3dbc')\"\n",
              "            title=\"Convert this dataframe to an interactive table.\"\n",
              "            style=\"display:none;\">\n",
              "\n",
              "  <svg xmlns=\"http://www.w3.org/2000/svg\" height=\"24px\" viewBox=\"0 -960 960 960\">\n",
              "    <path d=\"M120-120v-720h720v720H120Zm60-500h600v-160H180v160Zm220 220h160v-160H400v160Zm0 220h160v-160H400v160ZM180-400h160v-160H180v160Zm440 0h160v-160H620v160ZM180-180h160v-160H180v160Zm440 0h160v-160H620v160Z\"/>\n",
              "  </svg>\n",
              "    </button>\n",
              "\n",
              "  <style>\n",
              "    .colab-df-container {\n",
              "      display:flex;\n",
              "      gap: 12px;\n",
              "    }\n",
              "\n",
              "    .colab-df-convert {\n",
              "      background-color: #E8F0FE;\n",
              "      border: none;\n",
              "      border-radius: 50%;\n",
              "      cursor: pointer;\n",
              "      display: none;\n",
              "      fill: #1967D2;\n",
              "      height: 32px;\n",
              "      padding: 0 0 0 0;\n",
              "      width: 32px;\n",
              "    }\n",
              "\n",
              "    .colab-df-convert:hover {\n",
              "      background-color: #E2EBFA;\n",
              "      box-shadow: 0px 1px 2px rgba(60, 64, 67, 0.3), 0px 1px 3px 1px rgba(60, 64, 67, 0.15);\n",
              "      fill: #174EA6;\n",
              "    }\n",
              "\n",
              "    .colab-df-buttons div {\n",
              "      margin-bottom: 4px;\n",
              "    }\n",
              "\n",
              "    [theme=dark] .colab-df-convert {\n",
              "      background-color: #3B4455;\n",
              "      fill: #D2E3FC;\n",
              "    }\n",
              "\n",
              "    [theme=dark] .colab-df-convert:hover {\n",
              "      background-color: #434B5C;\n",
              "      box-shadow: 0px 1px 3px 1px rgba(0, 0, 0, 0.15);\n",
              "      filter: drop-shadow(0px 1px 2px rgba(0, 0, 0, 0.3));\n",
              "      fill: #FFFFFF;\n",
              "    }\n",
              "  </style>\n",
              "\n",
              "    <script>\n",
              "      const buttonEl =\n",
              "        document.querySelector('#df-3080c385-84ed-419e-b037-ad1be31a3dbc button.colab-df-convert');\n",
              "      buttonEl.style.display =\n",
              "        google.colab.kernel.accessAllowed ? 'block' : 'none';\n",
              "\n",
              "      async function convertToInteractive(key) {\n",
              "        const element = document.querySelector('#df-3080c385-84ed-419e-b037-ad1be31a3dbc');\n",
              "        const dataTable =\n",
              "          await google.colab.kernel.invokeFunction('convertToInteractive',\n",
              "                                                    [key], {});\n",
              "        if (!dataTable) return;\n",
              "\n",
              "        const docLinkHtml = 'Like what you see? Visit the ' +\n",
              "          '<a target=\"_blank\" href=https://colab.research.google.com/notebooks/data_table.ipynb>data table notebook</a>'\n",
              "          + ' to learn more about interactive tables.';\n",
              "        element.innerHTML = '';\n",
              "        dataTable['output_type'] = 'display_data';\n",
              "        await google.colab.output.renderOutput(dataTable, element);\n",
              "        const docLink = document.createElement('div');\n",
              "        docLink.innerHTML = docLinkHtml;\n",
              "        element.appendChild(docLink);\n",
              "      }\n",
              "    </script>\n",
              "  </div>\n",
              "\n",
              "\n",
              "<div id=\"df-aea45f64-55ff-491e-8484-3b468fa63bc8\">\n",
              "  <button class=\"colab-df-quickchart\" onclick=\"quickchart('df-aea45f64-55ff-491e-8484-3b468fa63bc8')\"\n",
              "            title=\"Suggest charts\"\n",
              "            style=\"display:none;\">\n",
              "\n",
              "<svg xmlns=\"http://www.w3.org/2000/svg\" height=\"24px\"viewBox=\"0 0 24 24\"\n",
              "     width=\"24px\">\n",
              "    <g>\n",
              "        <path d=\"M19 3H5c-1.1 0-2 .9-2 2v14c0 1.1.9 2 2 2h14c1.1 0 2-.9 2-2V5c0-1.1-.9-2-2-2zM9 17H7v-7h2v7zm4 0h-2V7h2v10zm4 0h-2v-4h2v4z\"/>\n",
              "    </g>\n",
              "</svg>\n",
              "  </button>\n",
              "\n",
              "<style>\n",
              "  .colab-df-quickchart {\n",
              "      --bg-color: #E8F0FE;\n",
              "      --fill-color: #1967D2;\n",
              "      --hover-bg-color: #E2EBFA;\n",
              "      --hover-fill-color: #174EA6;\n",
              "      --disabled-fill-color: #AAA;\n",
              "      --disabled-bg-color: #DDD;\n",
              "  }\n",
              "\n",
              "  [theme=dark] .colab-df-quickchart {\n",
              "      --bg-color: #3B4455;\n",
              "      --fill-color: #D2E3FC;\n",
              "      --hover-bg-color: #434B5C;\n",
              "      --hover-fill-color: #FFFFFF;\n",
              "      --disabled-bg-color: #3B4455;\n",
              "      --disabled-fill-color: #666;\n",
              "  }\n",
              "\n",
              "  .colab-df-quickchart {\n",
              "    background-color: var(--bg-color);\n",
              "    border: none;\n",
              "    border-radius: 50%;\n",
              "    cursor: pointer;\n",
              "    display: none;\n",
              "    fill: var(--fill-color);\n",
              "    height: 32px;\n",
              "    padding: 0;\n",
              "    width: 32px;\n",
              "  }\n",
              "\n",
              "  .colab-df-quickchart:hover {\n",
              "    background-color: var(--hover-bg-color);\n",
              "    box-shadow: 0 1px 2px rgba(60, 64, 67, 0.3), 0 1px 3px 1px rgba(60, 64, 67, 0.15);\n",
              "    fill: var(--button-hover-fill-color);\n",
              "  }\n",
              "\n",
              "  .colab-df-quickchart-complete:disabled,\n",
              "  .colab-df-quickchart-complete:disabled:hover {\n",
              "    background-color: var(--disabled-bg-color);\n",
              "    fill: var(--disabled-fill-color);\n",
              "    box-shadow: none;\n",
              "  }\n",
              "\n",
              "  .colab-df-spinner {\n",
              "    border: 2px solid var(--fill-color);\n",
              "    border-color: transparent;\n",
              "    border-bottom-color: var(--fill-color);\n",
              "    animation:\n",
              "      spin 1s steps(1) infinite;\n",
              "  }\n",
              "\n",
              "  @keyframes spin {\n",
              "    0% {\n",
              "      border-color: transparent;\n",
              "      border-bottom-color: var(--fill-color);\n",
              "      border-left-color: var(--fill-color);\n",
              "    }\n",
              "    20% {\n",
              "      border-color: transparent;\n",
              "      border-left-color: var(--fill-color);\n",
              "      border-top-color: var(--fill-color);\n",
              "    }\n",
              "    30% {\n",
              "      border-color: transparent;\n",
              "      border-left-color: var(--fill-color);\n",
              "      border-top-color: var(--fill-color);\n",
              "      border-right-color: var(--fill-color);\n",
              "    }\n",
              "    40% {\n",
              "      border-color: transparent;\n",
              "      border-right-color: var(--fill-color);\n",
              "      border-top-color: var(--fill-color);\n",
              "    }\n",
              "    60% {\n",
              "      border-color: transparent;\n",
              "      border-right-color: var(--fill-color);\n",
              "    }\n",
              "    80% {\n",
              "      border-color: transparent;\n",
              "      border-right-color: var(--fill-color);\n",
              "      border-bottom-color: var(--fill-color);\n",
              "    }\n",
              "    90% {\n",
              "      border-color: transparent;\n",
              "      border-bottom-color: var(--fill-color);\n",
              "    }\n",
              "  }\n",
              "</style>\n",
              "\n",
              "  <script>\n",
              "    async function quickchart(key) {\n",
              "      const quickchartButtonEl =\n",
              "        document.querySelector('#' + key + ' button');\n",
              "      quickchartButtonEl.disabled = true;  // To prevent multiple clicks.\n",
              "      quickchartButtonEl.classList.add('colab-df-spinner');\n",
              "      try {\n",
              "        const charts = await google.colab.kernel.invokeFunction(\n",
              "            'suggestCharts', [key], {});\n",
              "      } catch (error) {\n",
              "        console.error('Error during call to suggestCharts:', error);\n",
              "      }\n",
              "      quickchartButtonEl.classList.remove('colab-df-spinner');\n",
              "      quickchartButtonEl.classList.add('colab-df-quickchart-complete');\n",
              "    }\n",
              "    (() => {\n",
              "      let quickchartButtonEl =\n",
              "        document.querySelector('#df-aea45f64-55ff-491e-8484-3b468fa63bc8 button');\n",
              "      quickchartButtonEl.style.display =\n",
              "        google.colab.kernel.accessAllowed ? 'block' : 'none';\n",
              "    })();\n",
              "  </script>\n",
              "</div>\n",
              "\n",
              "    </div>\n",
              "  </div>\n"
            ],
            "application/vnd.google.colaboratory.intrinsic+json": {
              "type": "dataframe",
              "variable_name": "df",
              "summary": "{\n  \"name\": \"df\",\n  \"rows\": 200,\n  \"fields\": [\n    {\n      \"column\": \"Merchant Id\",\n      \"properties\": {\n        \"dtype\": \"number\",\n        \"std\": 57,\n        \"min\": 1,\n        \"max\": 200,\n        \"num_unique_values\": 200,\n        \"samples\": [\n          96,\n          16,\n          31\n        ],\n        \"semantic_type\": \"\",\n        \"description\": \"\"\n      }\n    },\n    {\n      \"column\": \"Annual_Revenue\",\n      \"properties\": {\n        \"dtype\": \"number\",\n        \"std\": 26,\n        \"min\": 15,\n        \"max\": 137,\n        \"num_unique_values\": 64,\n        \"samples\": [\n          87,\n          101,\n          15\n        ],\n        \"semantic_type\": \"\",\n        \"description\": \"\"\n      }\n    },\n    {\n      \"column\": \"Spending_Score\",\n      \"properties\": {\n        \"dtype\": \"number\",\n        \"std\": 25,\n        \"min\": 1,\n        \"max\": 99,\n        \"num_unique_values\": 84,\n        \"samples\": [\n          83,\n          39,\n          71\n        ],\n        \"semantic_type\": \"\",\n        \"description\": \"\"\n      }\n    },\n    {\n      \"column\": \"City\",\n      \"properties\": {\n        \"dtype\": \"number\",\n        \"std\": 0,\n        \"min\": 0,\n        \"max\": 3,\n        \"num_unique_values\": 4,\n        \"samples\": [\n          3,\n          0,\n          2\n        ],\n        \"semantic_type\": \"\",\n        \"description\": \"\"\n      }\n    },\n    {\n      \"column\": \"Most_Purchased_Product\",\n      \"properties\": {\n        \"dtype\": \"number\",\n        \"std\": 1,\n        \"min\": 0,\n        \"max\": 3,\n        \"num_unique_values\": 4,\n        \"samples\": [\n          1,\n          2,\n          3\n        ],\n        \"semantic_type\": \"\",\n        \"description\": \"\"\n      }\n    },\n    {\n      \"column\": \"Cluster_Number\",\n      \"properties\": {\n        \"dtype\": \"number\",\n        \"std\": 1,\n        \"min\": 0,\n        \"max\": 4,\n        \"num_unique_values\": 5,\n        \"samples\": [\n          3,\n          1,\n          0\n        ],\n        \"semantic_type\": \"\",\n        \"description\": \"\"\n      }\n    },\n    {\n      \"column\": \"Cluster_Nature\",\n      \"properties\": {\n        \"dtype\": \"category\",\n        \"num_unique_values\": 5,\n        \"samples\": [\n          \"Spendthrift\",\n          \"Miser\",\n          \"General\"\n        ],\n        \"semantic_type\": \"\",\n        \"description\": \"\"\n      }\n    },\n    {\n      \"column\": \"Predicted_Cluster_Nature\",\n      \"properties\": {\n        \"dtype\": \"category\",\n        \"num_unique_values\": 5,\n        \"samples\": [\n          \"Spendthrift\",\n          \"Miser\",\n          \"General\"\n        ],\n        \"semantic_type\": \"\",\n        \"description\": \"\"\n      }\n    }\n  ]\n}"
            }
          },
          "metadata": {},
          "execution_count": 299
        }
      ]
    },
    {
      "cell_type": "markdown",
      "source": [
        "**By following these steps, Cow and Buffalo Milk company can effectively enhance sales and optimize advertising spend. The credit scoring algorithm helps identify creditworthy merchants, while clustering provides insights into customer segments for targeted marketing strategies.**"
      ],
      "metadata": {
        "id": "YgXHS3WWs1n7"
      }
    },
    {
      "cell_type": "markdown",
      "source": [
        "***Ans. 5th Problem***\n",
        "**Targeting Strategy:**\n",
        "Focus on 'Careful' and 'General' (Cluster_Nature).These categories typically indicate more stable purchasing patterns and higher creditworthiness.\n",
        "Merchants in these categories are likely to provide better returns on advertising investments due to their consistent behavior and reliability.\n",
        "\n",
        "\n",
        "**Avoidance Strategy:** Exercise caution with merchants categorized as 'Spendthrift' and 'Miser'. These categories may exhibit erratic purchasing behaviors.\n",
        "Erratic behaviors can lead to unpredictable outcomes and potentially lower returns on advertising investments."
      ],
      "metadata": {
        "id": "AOUCc8enh-Z9"
      }
    },
    {
      "cell_type": "markdown",
      "source": [
        "# **PROBLEM 1:-**  \n",
        "# Ans. To Increase sales and become more efficient in allocating advertisement Spend- Analyse data first See that which product is most purchased product,which city is purchasing most that most purchased product,City person's belongs to which cluster(Careful,General,Spendthirft and miser) choose careful and General cluster type customer then allocate advertising spend and other spends like customer engaagement spend,ad spend and all."
      ],
      "metadata": {
        "id": "8ivs8Z2nxdZv"
      }
    },
    {
      "cell_type": "markdown",
      "source": [
        "# **PROBLEM 6:-**  \n",
        "**Download the final analysed data into CSV file with the below sample format having to which cluster they belong to and their nature columns for all the merchants in the data.**\n",
        "\n",
        "Successfully Done Above in Problem 3"
      ],
      "metadata": {
        "id": "8Wx_AXMB1G1e"
      }
    },
    {
      "cell_type": "code",
      "source": [],
      "metadata": {
        "id": "FrSFlZ9t1Ftx"
      },
      "execution_count": null,
      "outputs": []
    }
  ]
}